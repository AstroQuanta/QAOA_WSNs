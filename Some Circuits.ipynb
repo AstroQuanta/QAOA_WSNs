{
 "cells": [
  {
   "cell_type": "code",
   "execution_count": 1,
   "id": "8c316ea3",
   "metadata": {},
   "outputs": [],
   "source": [
    "import numpy as np\n",
    "from qiskit import QuantumCircuit, Aer, assemble\n",
    "from qiskit.visualization import plot_histogram, plot_bloch_multivector"
   ]
  },
  {
   "cell_type": "code",
   "execution_count": 2,
   "id": "1c028209",
   "metadata": {},
   "outputs": [
    {
     "data": {
      "text/html": [
       "<pre style=\"word-wrap: normal;white-space: pre;background: #fff0;line-height: 1.1;font-family: &quot;Courier New&quot;,Courier,monospace\">     ┌───┐                    \n",
       "q_0: ┤ H ├──■─────────────────\n",
       "     └───┘┌─┴─┐               \n",
       "q_1: ─────┤ X ├──■────────────\n",
       "          └───┘┌─┴─┐          \n",
       "q_2: ──────────┤ X ├──■───────\n",
       "               └───┘┌─┴─┐     \n",
       "q_3: ───────────────┤ X ├──■──\n",
       "                    └───┘┌─┴─┐\n",
       "q_4: ────────────────────┤ X ├\n",
       "                         └───┘</pre>"
      ],
      "text/plain": [
       "     ┌───┐                    \n",
       "q_0: ┤ H ├──■─────────────────\n",
       "     └───┘┌─┴─┐               \n",
       "q_1: ─────┤ X ├──■────────────\n",
       "          └───┘┌─┴─┐          \n",
       "q_2: ──────────┤ X ├──■───────\n",
       "               └───┘┌─┴─┐     \n",
       "q_3: ───────────────┤ X ├──■──\n",
       "                    └───┘┌─┴─┐\n",
       "q_4: ────────────────────┤ X ├\n",
       "                         └───┘"
      ]
     },
     "execution_count": 2,
     "metadata": {},
     "output_type": "execute_result"
    }
   ],
   "source": [
    "n_qubits = 5\n",
    "qc = QuantumCircuit(n_qubits)\n",
    "qc.h(0)\n",
    "for i in range(0, n_qubits-1):\n",
    "    qc.cx(i, i+1)\n",
    "    \n",
    "qc.draw()"
   ]
  },
  {
   "cell_type": "code",
   "execution_count": 4,
   "id": "111117dd",
   "metadata": {},
   "outputs": [
    {
     "data": {
      "text/latex": [
       "$$\n",
       "\\text{Statevector} = \n",
       "\\begin{bmatrix}\n",
       "\\tfrac{1}{\\sqrt{2}} & 0 & 0 & 0 & \\cdots & 0 & 0 & \\tfrac{1}{\\sqrt{2}}  \\\\\n",
       " \\end{bmatrix}\n",
       "$$"
      ],
      "text/plain": [
       "<IPython.core.display.Latex object>"
      ]
     },
     "execution_count": 4,
     "metadata": {},
     "output_type": "execute_result"
    }
   ],
   "source": [
    "from qiskit.visualization import array_to_latex\n",
    "\n",
    "simulator = Aer.get_backend('aer_simulator')\n",
    "qc.save_statevector()\n",
    "qobj = assemble(qc)\n",
    "result = simulator.run(qobj).result()\n",
    "final_state = result.get_statevector()\n",
    "\n",
    "array_to_latex(final_state, prefix=\"\\\\text{Statevector} = \")"
   ]
  },
  {
   "cell_type": "code",
   "execution_count": 7,
   "id": "04fe54d1",
   "metadata": {},
   "outputs": [
    {
     "data": {
      "image/png": "[encoded data removed]",
      "text/plain": [
       "<Figure size 504x360 with 1 Axes>"
      ]
     },
     "execution_count": 7,
     "metadata": {},
     "output_type": "execute_result"
    }
   ],
   "source": [
    "plot_histogram(result.get_counts())"
   ]
  },
  {
   "cell_type": "markdown",
   "id": "57e32ea9",
   "metadata": {},
   "source": [
    "#####################################################################################"
   ]
  },
  {
   "cell_type": "code",
   "execution_count": 26,
   "id": "10c71fe9",
   "metadata": {},
   "outputs": [
    {
     "data": {
      "text/html": [
       "<pre style=\"word-wrap: normal;white-space: pre;background: #fff0;line-height: 1.1;font-family: &quot;Courier New&quot;,Courier,monospace\">     ┌───┐     ┌───┐┌───┐\n",
       "q_0: ┤ H ├──■──┤ I ├┤ H ├\n",
       "     └───┘┌─┴─┐├───┤└───┘\n",
       "q_1: ─────┤ X ├┤ H ├─────\n",
       "          └───┘└───┘     </pre>"
      ],
      "text/plain": [
       "     ┌───┐     ┌───┐┌───┐\n",
       "q_0: ┤ H ├──■──┤ I ├┤ H ├\n",
       "     └───┘┌─┴─┐├───┤└───┘\n",
       "q_1: ─────┤ X ├┤ H ├─────\n",
       "          └───┘└───┘     "
      ]
     },
     "execution_count": 26,
     "metadata": {},
     "output_type": "execute_result"
    }
   ],
   "source": [
    "from qiskit.providers.aer import QasmSimulator\n",
    "from qiskit import transpile\n",
    "from qiskit.providers.basicaer import QasmSimulatorPy\n",
    "\n",
    "circuit = QuantumCircuit(2)\n",
    "\n",
    "circuit.h(0)\n",
    "circuit.cx(0, 1)\n",
    "circuit.i(0)\n",
    "circuit.h(1)\n",
    "circuit.h(0)\n",
    "#circuit.h(1)\n",
    "\n",
    "circuit.draw()"
   ]
  },
  {
   "cell_type": "code",
   "execution_count": 27,
   "id": "168f80e8",
   "metadata": {},
   "outputs": [
    {
     "data": {
      "text/latex": [
       "$$\n",
       "\\text{Statevector} = \n",
       "\\begin{bmatrix}\n",
       "\\tfrac{1}{\\sqrt{2}} & 0 & 0 & \\tfrac{1}{\\sqrt{2}}  \\\\\n",
       " \\end{bmatrix}\n",
       "$$"
      ],
      "text/plain": [
       "<IPython.core.display.Latex object>"
      ]
     },
     "execution_count": 27,
     "metadata": {},
     "output_type": "execute_result"
    }
   ],
   "source": [
    "simulator = Aer.get_backend('aer_simulator')\n",
    "circuit.save_statevector()\n",
    "qobj = assemble(circuit)\n",
    "result = simulator.run(qobj).result()\n",
    "final_state = result.get_statevector()\n",
    "\n",
    "array_to_latex(final_state, prefix=\"\\\\text{Statevector} = \")"
   ]
  },
  {
   "cell_type": "code",
   "execution_count": 22,
   "id": "f265ceab",
   "metadata": {},
   "outputs": [
    {
     "data": {
      "text/html": [
       "<pre style=\"word-wrap: normal;white-space: pre;background: #fff0;line-height: 1.1;font-family: &quot;Courier New&quot;,Courier,monospace\">     ┌───┐     ┌───┐\n",
       "q_0: ┤ H ├──■──┤ H ├\n",
       "     ├───┤┌─┴─┐├───┤\n",
       "q_1: ┤ H ├┤ X ├┤ H ├\n",
       "     └───┘└───┘└───┘</pre>"
      ],
      "text/plain": [
       "     ┌───┐     ┌───┐\n",
       "q_0: ┤ H ├──■──┤ H ├\n",
       "     ├───┤┌─┴─┐├───┤\n",
       "q_1: ┤ H ├┤ X ├┤ H ├\n",
       "     └───┘└───┘└───┘"
      ]
     },
     "execution_count": 22,
     "metadata": {},
     "output_type": "execute_result"
    }
   ],
   "source": [
    "qc = QuantumCircuit(2)\n",
    "qc.h(0)\n",
    "qc.h(1)\n",
    "qc.cx(0,1)\n",
    "\n",
    "qc.h(0)\n",
    "qc.h(1)\n",
    "\n",
    "qc.draw()"
   ]
  },
  {
   "cell_type": "code",
   "execution_count": 23,
   "id": "396a4c6c",
   "metadata": {},
   "outputs": [
    {
     "data": {
      "text/latex": [
       "$$\n",
       "\\text{Statevector} = \n",
       "\\begin{bmatrix}\n",
       "1 & 0 & 0 & 0  \\\\\n",
       " \\end{bmatrix}\n",
       "$$"
      ],
      "text/plain": [
       "<IPython.core.display.Latex object>"
      ]
     },
     "execution_count": 23,
     "metadata": {},
     "output_type": "execute_result"
    }
   ],
   "source": [
    "simulator = Aer.get_backend('aer_simulator')\n",
    "qc.save_statevector()\n",
    "qobj = assemble(qc)\n",
    "result = simulator.run(qobj).result()\n",
    "final_state = result.get_statevector()\n",
    "\n",
    "array_to_latex(final_state, prefix=\"\\\\text{Statevector} = \")"
   ]
  },
  {
   "cell_type": "code",
   "execution_count": 2,
   "id": "188072c0",
   "metadata": {},
   "outputs": [
    {
     "data": {
      "text/html": [
       "<pre style=\"word-wrap: normal;white-space: pre;background: #fff0;line-height: 1.1;font-family: &quot;Courier New&quot;,Courier,monospace\">     ┌───┐\n",
       "q_0: ┤ H ├\n",
       "     └───┘\n",
       "q_1: ─────\n",
       "          </pre>"
      ],
      "text/plain": [
       "     ┌───┐\n",
       "q_0: ┤ H ├\n",
       "     └───┘\n",
       "q_1: ─────\n",
       "          "
      ]
     },
     "execution_count": 2,
     "metadata": {},
     "output_type": "execute_result"
    }
   ],
   "source": [
    "qc = QuantumCircuit(2)\n",
    "qc.h(0)\n",
    "qc.draw()"
   ]
  },
  {
   "cell_type": "code",
   "execution_count": 3,
   "id": "15410ab5",
   "metadata": {},
   "outputs": [
    {
     "name": "stdout",
     "output_type": "stream",
     "text": [
      "{'00': 0.5, '01': 0.5}\n"
     ]
    }
   ],
   "source": [
    "simulator = Aer.get_backend('aer_simulator')\n",
    "qc.save_statevector()\n",
    "qobj = assemble(qc)\n",
    "result = simulator.run(qobj).result()\n",
    "final_state = result.get_counts()\n",
    "\n",
    "print(final_state)"
   ]
  }
 ],
 "metadata": {
  "kernelspec": {
   "display_name": "Python 3 (ipykernel)",
   "language": "python",
   "name": "python3"
  },
  "language_info": {
   "codemirror_mode": {
    "name": "ipython",
    "version": 3
   },
   "file_extension": ".py",
   "mimetype": "text/x-python",
   "name": "python",
   "nbconvert_exporter": "python",
   "pygments_lexer": "ipython3",
   "version": "3.8.13"
  }
 },
 "nbformat": 4,
 "nbformat_minor": 5
}
