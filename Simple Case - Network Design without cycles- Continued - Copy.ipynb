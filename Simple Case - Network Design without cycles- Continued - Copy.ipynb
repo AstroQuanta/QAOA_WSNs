{
 "cells": [
  {
   "cell_type": "markdown",
   "id": "e5993f87",
   "metadata": {},
   "source": [
    "# Reason for this test #\n",
    "\n",
    "### Documentation of an idea ###\n",
    "\n",
    "The point of adding the last fcost constraint expression, which is trivial anyways because it comes from <b>1</b> - <b>2</b> - <b>3</b>, is that these contraints then can be changed easily when changing the destination node. Just change the RHS of the constraint equations, that is subtract 1 or 0 accordingly."
   ]
  },
  {
   "cell_type": "code",
   "execution_count": 1,
   "id": "db8a5085",
   "metadata": {},
   "outputs": [],
   "source": [
    "from pyqubo import Array,Constraint,Placeholder"
   ]
  },
  {
   "cell_type": "code",
   "execution_count": 2,
   "id": "e497421f",
   "metadata": {},
   "outputs": [],
   "source": [
    "edges = [(1,2),(1,3),(3,4), (4,2)]\n",
    "weights = [5,8,4,3]\n",
    "nodes = 4\n",
    "x = Array.create(name = 'x', shape =len(edges), vartype = 'BINARY') "
   ]
  },
  {
   "cell_type": "code",
   "execution_count": 3,
   "id": "00265f70",
   "metadata": {},
   "outputs": [
    {
     "name": "stdout",
     "output_type": "stream",
     "text": [
      "(4,)\n",
      "Array([Binary('x[0]'), Binary('x[1]'), Binary('x[2]'), Binary('x[3]')])\n",
      "((4.000000 * Binary('x[0]')) + Binary('x[1]'))\n"
     ]
    }
   ],
   "source": [
    "print(x.shape)\n",
    "print(x)\n",
    "y = (4*x[0]+x[1])\n",
    "print(y)"
   ]
  },
  {
   "cell_type": "code",
   "execution_count": 5,
   "id": "a534edee",
   "metadata": {},
   "outputs": [],
   "source": [
    "# model = ((x[0] + x[1] - 1)).compile()\n",
    "# print(model.to_qubo())"
   ]
  },
  {
   "cell_type": "code",
   "execution_count": 18,
   "id": "82e091bc",
   "metadata": {},
   "outputs": [],
   "source": [
    "i = 0\n",
    "fcost = 0\n",
    "for i in range(len(edges)):\n",
    "    fcost += (weights[i]*x[i]) ## Put the expression for constraints in\n",
    "\n",
    "p = 100 # chosen arbitrarily. It represents the penalty for the constraints. Also another parameter that can be varied\n",
    "\n",
    "## Constraints ##\n",
    "fcost += p*((x[0] + x[1] - 1)**2) \n",
    "fcost += p*((x[0] + x[3] - 1)**2)\n",
    "fcost += p*((x[1] - x[2] - 0)**2)\n",
    "fcost += p*((x[2] - x[3] - 0)**2)"
   ]
  },
  {
   "cell_type": "code",
   "execution_count": 19,
   "id": "13e13dac",
   "metadata": {},
   "outputs": [],
   "source": [
    "model = fcost.compile()"
   ]
  },
  {
   "cell_type": "code",
   "execution_count": 8,
   "id": "68b3fc27",
   "metadata": {},
   "outputs": [
    {
     "name": "stdout",
     "output_type": "stream",
     "text": [
      "({('x[1]', 'x[1]'): 8.0, ('x[3]', 'x[0]'): 2.0, ('x[2]', 'x[1]'): -2.0, ('x[1]', 'x[0]'): 2.0, ('x[3]', 'x[3]'): 3.0, ('x[2]', 'x[2]'): 6.0, ('x[2]', 'x[3]'): -2.0, ('x[0]', 'x[0]'): 3.0}, 2.0)\n"
     ]
    }
   ],
   "source": [
    "print(model.to_qubo())"
   ]
  },
  {
   "cell_type": "code",
   "execution_count": 20,
   "id": "e38e36eb",
   "metadata": {},
   "outputs": [
    {
     "name": "stdout",
     "output_type": "stream",
     "text": [
      "Linear Coefficients {'x[0]': 2.5, 'x[1]': 4.0, 'x[2]': 2.0, 'x[3]': 1.5}\n",
      "Quadratic Coefficients {('x[0]', 'x[1]'): 50.0, ('x[0]', 'x[3]'): 50.0, ('x[1]', 'x[2]'): -50.0, ('x[2]', 'x[3]'): -50.0}\n"
     ]
    }
   ],
   "source": [
    "linear, quadratic, offset = model.to_ising()\n",
    "print(\"Linear Coefficients\", linear)\n",
    "print(\"Quadratic Coefficients\", quadratic)\n",
    "\n",
    "## The objective function is then made from these linear and quadratic terms ##\n",
    "## The objective function represents the Problem Hamiltonian Hp ##"
   ]
  },
  {
   "cell_type": "markdown",
   "id": "a2964be0",
   "metadata": {},
   "source": [
    "### So making these changes to the fcost constraint expressions did not have any change to the QUBO model generated, which checks out ###"
   ]
  },
  {
   "attachments": {
    "image-3.png": {
     "image/png": "[encoded data removed]"
    }
   },
   "cell_type": "markdown",
   "id": "142a794c",
   "metadata": {},
   "source": [
    "## Modified Network ##\n",
    "\n",
    "### Node 2 is the destination node ###\n",
    "\n",
    "![image-3.png](attachment:image-3.png)"
   ]
  },
  {
   "cell_type": "code",
   "execution_count": 14,
   "id": "5a90a88d",
   "metadata": {},
   "outputs": [],
   "source": [
    "# general imports\n",
    "import numpy as np\n",
    "import matplotlib.pyplot as plt\n",
    "# magic word for producing visualizations in notebook\n",
    "%matplotlib inline\n",
    "import string\n",
    "import time"
   ]
  },
  {
   "cell_type": "code",
   "execution_count": 15,
   "id": "3739b07c",
   "metadata": {},
   "outputs": [],
   "source": [
    "# AWS imports: Import Braket SDK modules\n",
    "from braket.circuits import Circuit, Gate, Observable\n",
    "from braket.devices import LocalSimulator\n",
    "from braket.aws import AwsDevice, AwsQuantumTask"
   ]
  },
  {
   "cell_type": "code",
   "execution_count": 13,
   "id": "06070c44",
   "metadata": {},
   "outputs": [],
   "source": [
    "def create_circuit(beta, gamma):\n",
    "    ## initializing the initial qubit state with H gates ##\n",
    "    circuit = Circuit()\n",
    "    n_qubits = len(edges)\n",
    "\n",
    "    for qubit in range(n_qubits):\n",
    "        circuit.h(qubit)\n",
    "    \n",
    "    ## Implementing the problem Hamiltonian ##\n",
    "    for qubit in range(n_qubits):\n",
    "        linear_coeff = linear.get('x['+str(qubit)+']')\n",
    "        circuit = circuit.rz(qubit, -1*linear_coeff)\n",
    "\n",
    "    #Algorithmic method to add the ZZ gates - CHECK TO SEE IF IT AFFECTS THE RESULTS(it should'nt because they commute)\n",
    "    for i in range(len(quadratic)):\n",
    "        qubit_1 = int(list(quadratic.keys())[i][0][2])\n",
    "        qubit_2 = int(list(quadratic.keys())[i][1][2])\n",
    "\n",
    "        quadratic_coeff = quadratic.get(('x['+str(qubit_1)+']', 'x['+str(qubit_2)+']'))\n",
    "\n",
    "        circuit.zz(qubit_1, qubit_2, quadratic_coeff*gamma)\n",
    "    \n",
    "    ## Implementing the Mixer Hamiltonian ##\n",
    "    for qubit in range(n_qubits):\n",
    "        circuit.rx(qubit, 2*beta) # theta=2*beta because rx rotates the qubit about X by theta/2 angle\n",
    "        \n",
    "    return circuit"
   ]
  },
  {
   "cell_type": "markdown",
   "id": "c387e174",
   "metadata": {},
   "source": [
    "* <b>Remember that there are 3 parameters that can be varied - beta, gamma and penalty p </b>"
   ]
  },
  {
   "cell_type": "code",
   "execution_count": 11,
   "id": "d5dce4d3",
   "metadata": {},
   "outputs": [],
   "source": [
    "## Expectation value of the Hamiltonian is basically the expected cost value which we can get from an average of the\n",
    "## cost values over all states that have occurred ##\n",
    "def compute_expectation(counts, shots):\n",
    "    \n",
    "    expectation = 0\n",
    "    sum = 0\n",
    "    states = list(counts.keys())\n",
    "    for i in range(len(states)):\n",
    "        state = states[i] # string variable of the current qubit states\n",
    "        state_cost = 0\n",
    "        for j in range(len(state)): # Convention of the states is that the left-most qubit is the first qubit q0\n",
    "            state_cost = state_cost + int(state[j])*weights[j]\n",
    "        \n",
    "        expectation = expectation + state_cost*counts.get(state)\n",
    "        \n",
    "    expectation /= shots\n",
    "    # print(expectation)\n",
    "    return expectation"
   ]
  },
  {
   "cell_type": "code",
   "execution_count": 12,
   "id": "ff39f9f7",
   "metadata": {},
   "outputs": [],
   "source": [
    "## Now we measure the circuit ##\n",
    "def expectation_execute_circuit(param):\n",
    "    ## Set up the device to run the circuit\n",
    "    device = LocalSimulator()\n",
    "    \n",
    "    ## QAOA parameters to be optimized such that the eigenvalue Cost(β, γ) can be minimized ##\n",
    "    beta = param[0]\n",
    "    gamma = param[1]\n",
    "    \n",
    "    circuit = create_circuit(beta, gamma)\n",
    "    \n",
    "    shots = 10000\n",
    "    result = device.run(circuit, shots).result()\n",
    "    counts = result.measurement_counts\n",
    "    \n",
    "    return compute_expectation(counts, shots)    "
   ]
  },
  {
   "cell_type": "code",
   "execution_count": 21,
   "id": "6f9ee2fd",
   "metadata": {
    "scrolled": true
   },
   "outputs": [
    {
     "name": "stdout",
     "output_type": "stream",
     "text": [
      "     fun: 8.2258\n",
      "   maxcv: 0.0\n",
      " message: 'Optimization terminated successfully.'\n",
      "    nfev: 31\n",
      "  status: 1\n",
      " success: True\n",
      "       x: array([5.52344965, 3.83207241])\n"
     ]
    }
   ],
   "source": [
    "## Classical Optimizer ##\n",
    "\n",
    "from scipy.optimize import minimize\n",
    "\n",
    "res = minimize(expectation_execute_circuit,\n",
    "               [5, 4.0],\n",
    "               method='COBYLA')\n",
    "print(res)"
   ]
  },
  {
   "cell_type": "markdown",
   "id": "196fbbc3",
   "metadata": {},
   "source": [
    "## Analyzing the Results"
   ]
  },
  {
   "cell_type": "code",
   "execution_count": 22,
   "id": "bbd2768c",
   "metadata": {},
   "outputs": [
    {
     "name": "stdout",
     "output_type": "stream",
     "text": [
      "Counter({'1011': 188, '1110': 106, '0110': 101, '0001': 100, '0000': 93, '0101': 85, '1000': 79, '1100': 73, '0010': 41, '1101': 39, '0111': 33, '0011': 21, '0100': 13, '1001': 11, '1111': 9, '1010': 8})\n"
     ]
    }
   ],
   "source": [
    "beta = res.get('x')[0]\n",
    "gamma = res.get('x')[1]\n",
    "circuit = create_circuit(0.28517317, -5.05969577)\n",
    "\n",
    "device = LocalSimulator()\n",
    "result = device.run(circuit, shots = 1000).result()\n",
    "counts = result.measurement_counts\n",
    "\n",
    "print(counts)\n",
    "\n",
    "# plot using Counter\n",
    "#plt.bar(counts.keys(), counts.values())\n",
    "#plt.xlabel('bitstrings')\n",
    "#plt.ylabel('counts')"
   ]
  },
  {
   "cell_type": "code",
   "execution_count": 23,
   "id": "294166a8",
   "metadata": {},
   "outputs": [
    {
     "name": "stdout",
     "output_type": "stream",
     "text": [
      "[5, 8, 4, 3]\n"
     ]
    }
   ],
   "source": [
    "print(weights)"
   ]
  },
  {
   "cell_type": "markdown",
   "id": "10f5b5c6",
   "metadata": {},
   "source": [
    "### So adding an outgoing path from Node 4 does change quite a lot, the probabilities are a lot less concrete than without the last path ###\n",
    "Increasing the number of shots may help in the counts\n",
    "\n",
    "Now lets try making Node 2 as the destination node"
   ]
  }
 ],
 "metadata": {
  "kernelspec": {
   "display_name": "Python 3 (ipykernel)",
   "language": "python",
   "name": "python3"
  },
  "language_info": {
   "codemirror_mode": {
    "name": "ipython",
    "version": 3
   },
   "file_extension": ".py",
   "mimetype": "text/x-python",
   "name": "python",
   "nbconvert_exporter": "python",
   "pygments_lexer": "ipython3",
   "version": "3.11.5"
  }
 },
 "nbformat": 4,
 "nbformat_minor": 5
}
