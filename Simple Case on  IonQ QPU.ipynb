{
 "cells": [
  {
   "cell_type": "markdown",
   "id": "7cce3c79",
   "metadata": {},
   "source": [
    "# Reason for this test #\n",
    "\n",
    "### Documentation of an idea ###\n",
    "\n",
    "The point of adding the last fcost constraint expression, which is trivial anyways because it comes from <b>1</b> - <b>2</b> - <b>3</b>, is that these contraints then can be changed easily when changing the destination node. Just change the RHS of the constraint equations, that is subtract 1 or 0 accordingly."
   ]
  },
  {
   "cell_type": "code",
   "execution_count": 1,
   "id": "db8a5085",
   "metadata": {},
   "outputs": [],
   "source": [
    "from pyqubo import Array,Constraint,Placeholder"
   ]
  },
  {
   "cell_type": "code",
   "execution_count": 2,
   "id": "e497421f",
   "metadata": {},
   "outputs": [],
   "source": [
    "edges = [(1,2),(1,3),(2,3),(2,4),(3,4)]\n",
    "weights = [5,8,2,7,4]\n",
    "nodes = 4\n",
    "x = Array.create(name = 'x', shape =len(edges), vartype = 'BINARY') "
   ]
  },
  {
   "cell_type": "markdown",
   "id": "e69ce690",
   "metadata": {},
   "source": [
    "Add the Linear Terms to the constraints"
   ]
  },
  {
   "cell_type": "code",
   "execution_count": 3,
   "id": "82e091bc",
   "metadata": {},
   "outputs": [],
   "source": [
    "i = 0\n",
    "fcost = 0\n",
    "for i in range(len(edges)):\n",
    "    fcost += (weights[i]*x[i]) ## Put the expression for constraints in"
   ]
  },
  {
   "cell_type": "markdown",
   "id": "aad94867",
   "metadata": {},
   "source": [
    "Add the Quadratic Terms to the constraints"
   ]
  },
  {
   "cell_type": "code",
   "execution_count": 4,
   "id": "f6b22911",
   "metadata": {},
   "outputs": [],
   "source": [
    "# Try to algorithmically add the constraints in\n",
    "## Set the source and destination nodes ##\n",
    "source = 1\n",
    "destination = 4\n",
    "p = 27\n",
    "\n",
    "node=1\n",
    "while(node<=nodes):\n",
    "    sum = 0\n",
    "    for j in range(len(edges)):\n",
    "        if edges[j][0] == node: ##Outgoing from the current node\n",
    "            sum += x[j]\n",
    "        elif edges[j][1] == node: ##Incoming into the current node\n",
    "            sum -= x[j]\n",
    "    \n",
    "    if node == source:\n",
    "        sum -= 1\n",
    "    elif node== destination:\n",
    "        sum += 1\n",
    "        \n",
    "    fcost += p*((sum)**2)\n",
    "        \n",
    "    # print(sum, \"For Node \"+str(node))\n",
    "    node+=1\n"
   ]
  },
  {
   "cell_type": "markdown",
   "id": "81a8ae85",
   "metadata": {},
   "source": [
    "Now Manually add in these constraints to fcost. The reason we're not doing it algorithmically is due to the nature of the QUBO model variables. For some reason only when each of the terms are added in one line does it show the correct results. Make sure to not add any brackets when hard-coding the expressions."
   ]
  },
  {
   "cell_type": "raw",
   "id": "7138c6a5",
   "metadata": {},
   "source": [
    "## Manually adding in the Constraints ##\n",
    "\n",
    "p = 27 # chosen arbitrarily. It represents the penalty for the constraints. Also another parameter that can be varied\n",
    "\n",
    "fcost += p*((x[0] + x[1] - 1)**2) \n",
    "fcost += p*((x[0] - x[2] - x[3]-0)**2)\n",
    "fcost += p*((x[1] + x[2] - x[4]-0)**2)\n",
    "fcost += p*((1-x[3]-x[4])**2)\n"
   ]
  },
  {
   "cell_type": "code",
   "execution_count": 5,
   "id": "e7ff065f",
   "metadata": {},
   "outputs": [
    {
     "name": "stdout",
     "output_type": "stream",
     "text": [
      "((27.000000 * ((1.000000 + (-1.000000 * Binary('x[4]')) + 0.000000 + (-1.000000 * Binary('x[3]'))) * (1.000000 + (-1.000000 * Binary('x[4]')) + 0.000000 + (-1.000000 * Binary('x[3]'))))) + (27.000000 * ((Binary('x[4]') + (-1.000000 * Binary('x[2]')) + 0.000000 + (-1.000000 * Binary('x[1]'))) * (Binary('x[4]') + (-1.000000 * Binary('x[2]')) + 0.000000 + (-1.000000 * Binary('x[1]'))))) + (27.000000 * ((Binary('x[3]') + Binary('x[2]') + 0.000000 + (-1.000000 * Binary('x[0]'))) * (Binary('x[3]') + Binary('x[2]') + 0.000000 + (-1.000000 * Binary('x[0]'))))) + (27.000000 * ((-1.000000 + Binary('x[1]') + 0.000000 + Binary('x[0]')) * (-1.000000 + Binary('x[1]') + 0.000000 + Binary('x[0]')))) + (4.000000 * Binary('x[4]')) + (7.000000 * Binary('x[3]')) + (2.000000 * Binary('x[2]')) + (8.000000 * Binary('x[1]')) + 0.000000 + (5.000000 * Binary('x[0]')))\n"
     ]
    }
   ],
   "source": [
    "print(fcost)"
   ]
  },
  {
   "cell_type": "code",
   "execution_count": 6,
   "id": "13e13dac",
   "metadata": {},
   "outputs": [],
   "source": [
    "model = fcost.compile()"
   ]
  },
  {
   "cell_type": "code",
   "execution_count": 7,
   "id": "68b3fc27",
   "metadata": {
    "scrolled": true
   },
   "outputs": [
    {
     "name": "stdout",
     "output_type": "stream",
     "text": [
      "({('x[4]', 'x[1]'): -54.0, ('x[0]', 'x[0]'): 5.0, ('x[2]', 'x[2]'): 56.0, ('x[4]', 'x[2]'): -54.0, ('x[3]', 'x[2]'): 54.0, ('x[3]', 'x[3]'): 7.0, ('x[1]', 'x[0]'): 54.0, ('x[2]', 'x[1]'): 54.0, ('x[4]', 'x[3]'): 54.0, ('x[3]', 'x[0]'): -54.0, ('x[2]', 'x[0]'): -54.0, ('x[4]', 'x[4]'): 4.0, ('x[1]', 'x[1]'): 8.0}, 54.0)\n"
     ]
    }
   ],
   "source": [
    "print(model.to_qubo())"
   ]
  },
  {
   "cell_type": "code",
   "execution_count": 8,
   "id": "e38e36eb",
   "metadata": {
    "scrolled": true
   },
   "outputs": [
    {
     "name": "stdout",
     "output_type": "stream",
     "text": [
      "Linear Coefficients {'x[0]': -11.0, 'x[1]': 17.5, 'x[2]': 28.0, 'x[3]': 17.0, 'x[4]': -11.5}\n",
      "Quadratic Coefficients {('x[0]', 'x[1]'): 13.5, ('x[0]', 'x[2]'): -13.5, ('x[2]', 'x[3]'): 13.5, ('x[0]', 'x[3]'): -13.5, ('x[2]', 'x[4]'): -13.5, ('x[3]', 'x[4]'): 13.5, ('x[1]', 'x[2]'): 13.5, ('x[1]', 'x[4]'): -13.5}\n"
     ]
    }
   ],
   "source": [
    "linear, quadratic, offset = model.to_ising()\n",
    "print(\"Linear Coefficients\", linear)\n",
    "print(\"Quadratic Coefficients\", quadratic)\n",
    "\n",
    "## The objective function is then made from these linear and quadratic terms ##\n",
    "## The objective function represents the Problem Hamiltonian Hp ##"
   ]
  },
  {
   "cell_type": "code",
   "execution_count": 9,
   "id": "5a90a88d",
   "metadata": {},
   "outputs": [],
   "source": [
    "# general imports\n",
    "import numpy as np\n",
    "import matplotlib.pyplot as plt\n",
    "# magic word for producing visualizations in notebook\n",
    "%matplotlib inline\n",
    "import string\n",
    "import time"
   ]
  },
  {
   "cell_type": "code",
   "execution_count": 10,
   "id": "3739b07c",
   "metadata": {},
   "outputs": [],
   "source": [
    "# AWS imports: Import Braket SDK modules\n",
    "from braket.circuits import Circuit, Gate, Observable\n",
    "from braket.devices import LocalSimulator\n",
    "from braket.aws import AwsDevice, AwsQuantumTask"
   ]
  },
  {
   "cell_type": "code",
   "execution_count": 12,
   "id": "80f48bc6",
   "metadata": {},
   "outputs": [
    {
     "name": "stdout",
     "output_type": "stream",
     "text": [
      "Gate set supported by the IonQ device:\n",
      " ['x', 'y', 'z', 'rx', 'ry', 'rz', 'h', 'cnot', 's', 'si', 't', 'ti', 'v', 'vi', 'xx', 'yy', 'zz', 'swap']\n"
     ]
    }
   ],
   "source": [
    "# the IonQ device\n",
    "device = AwsDevice(\"arn:aws:braket:::device/qpu/ionq/ionQdevice\")\n",
    "supported_gates = device.properties.action['braket.ir.jaqcd.program'].supportedOperations\n",
    "# print the supported gate set\n",
    "print('Gate set supported by the IonQ device:\\n', supported_gates)"
   ]
  },
  {
   "cell_type": "code",
   "execution_count": 13,
   "id": "06070c44",
   "metadata": {},
   "outputs": [],
   "source": [
    "def create_circuit(beta, gamma):\n",
    "    ## initializing the initial qubit state with H gates ##\n",
    "    circuit = Circuit()\n",
    "    n_qubits = len(edges)\n",
    "\n",
    "    for qubit in range(n_qubits):\n",
    "        circuit.h(qubit)\n",
    "    \n",
    "    ## Implementing the problem Hamiltonian ##\n",
    "    for qubit in range(n_qubits):\n",
    "        linear_coeff = linear.get('x['+str(qubit)+']')\n",
    "        circuit = circuit.rz(qubit, -1*linear_coeff)\n",
    "\n",
    "    #Algorithmic method to add the ZZ gates - CHECK TO SEE IF IT AFFECTS THE RESULTS(it should'nt because they commute)\n",
    "    for i in range(len(quadratic)):\n",
    "        qubit_1 = int(list(quadratic.keys())[i][0][2])\n",
    "        qubit_2 = int(list(quadratic.keys())[i][1][2])\n",
    "\n",
    "        quadratic_coeff = quadratic.get(('x['+str(qubit_1)+']', 'x['+str(qubit_2)+']'))\n",
    "\n",
    "        circuit.zz(qubit_1, qubit_2, quadratic_coeff*gamma)\n",
    "    \n",
    "    ## Implementing the Mixer Hamiltonian ##\n",
    "    for qubit in range(n_qubits):\n",
    "        circuit.rx(qubit, 2*beta) # theta=2*beta because rx rotates the qubit about X by theta/2 angle\n",
    "        \n",
    "    return circuit"
   ]
  },
  {
   "cell_type": "markdown",
   "id": "c387e174",
   "metadata": {},
   "source": [
    "* <b>Remember that there are 3 parameters that can be varied - beta, gamma and penalty p </b>"
   ]
  },
  {
   "cell_type": "code",
   "execution_count": 14,
   "id": "d5dce4d3",
   "metadata": {},
   "outputs": [],
   "source": [
    "## Expectation value of the Hamiltonian is basically the expected cost value which we can get from an average of the\n",
    "## cost values over all states that have occurred ##\n",
    "def compute_expectation(counts, shots):\n",
    "    \n",
    "    expectation = 0\n",
    "    sum = 0\n",
    "    states = list(counts.keys())\n",
    "    for i in range(len(states)):\n",
    "        state = states[i] # string variable of the current qubit states\n",
    "        state_cost = 0\n",
    "        for j in range(len(state)): # Convention of the states is that the left-most qubit is the first qubit q0\n",
    "            state_cost = state_cost + int(state[j])*weights[j]\n",
    "        \n",
    "        expectation = expectation + state_cost*counts.get(state)\n",
    "        \n",
    "    expectation /= 1000\n",
    "    # print(expectation)\n",
    "    return expectation"
   ]
  },
  {
   "cell_type": "code",
   "execution_count": 17,
   "id": "ff39f9f7",
   "metadata": {},
   "outputs": [],
   "source": [
    "## Now we measure the circuit ##\n",
    "def expectation_execute_circuit(param):\n",
    "    ## Set up the device to run the circuit\n",
    "    # set up device\n",
    "    ionq = AwsDevice(\"arn:aws:braket:::device/qpu/ionq/ionQdevice\")\n",
    "    \n",
    "    ## QAOA parameters to be optimized such that the eigenvalue Cost(β, γ) can be minimized ##\n",
    "    beta = param[0]\n",
    "    gamma = param[1]\n",
    "    \n",
    "    circuit = create_circuit(beta, gamma)\n",
    "    \n",
    "    shots = 1000\n",
    "    result = ionq.run(circuit, shots).result()\n",
    "    counts = result.measurement_counts\n",
    "    \n",
    "    print()\n",
    "    \n",
    "    return compute_expectation(counts, shots)    "
   ]
  },
  {
   "cell_type": "code",
   "execution_count": null,
   "id": "ecb09ac8",
   "metadata": {},
   "outputs": [],
   "source": [
    "circuit = create_circuit(0.91655593, 0.93386801)\n",
    "\n",
    "device = AwsDevice(\"arn:aws:braket:::device/qpu/ionq/ionQdevice\")\n",
    "result = device.run(circuit, shots = 1000).result()\n",
    "counts = result.measurement_counts\n",
    "\n",
    "print(counts)"
   ]
  },
  {
   "cell_type": "code",
   "execution_count": 18,
   "id": "6f9ee2fd",
   "metadata": {
    "scrolled": true
   },
   "outputs": [
    {
     "ename": "TypeError",
     "evalue": "object of type 'int' has no len()",
     "output_type": "error",
     "traceback": [
      "\u001b[1;31m---------------------------------------------------------------------------\u001b[0m",
      "\u001b[1;31mTypeError\u001b[0m                                 Traceback (most recent call last)",
      "Input \u001b[1;32mIn [18]\u001b[0m, in \u001b[0;36m<cell line: 5>\u001b[1;34m()\u001b[0m\n\u001b[0;32m      1\u001b[0m \u001b[38;5;66;03m## Classical Optimizer ##\u001b[39;00m\n\u001b[0;32m      3\u001b[0m \u001b[38;5;28;01mfrom\u001b[39;00m \u001b[38;5;21;01mscipy\u001b[39;00m\u001b[38;5;21;01m.\u001b[39;00m\u001b[38;5;21;01moptimize\u001b[39;00m \u001b[38;5;28;01mimport\u001b[39;00m minimize\n\u001b[1;32m----> 5\u001b[0m res \u001b[38;5;241m=\u001b[39m \u001b[43mminimize\u001b[49m\u001b[43m(\u001b[49m\u001b[43mexpectation_execute_circuit\u001b[49m\u001b[43m,\u001b[49m\n\u001b[0;32m      6\u001b[0m \u001b[43m               \u001b[49m\u001b[43m[\u001b[49m\u001b[38;5;241;43m1.0\u001b[39;49m\u001b[43m,\u001b[49m\u001b[43m \u001b[49m\u001b[38;5;241;43m1.0\u001b[39;49m\u001b[43m]\u001b[49m\u001b[43m,\u001b[49m\n\u001b[0;32m      7\u001b[0m \u001b[43m               \u001b[49m\u001b[43mmethod\u001b[49m\u001b[38;5;241;43m=\u001b[39;49m\u001b[38;5;124;43m'\u001b[39;49m\u001b[38;5;124;43mCOBYLA\u001b[39;49m\u001b[38;5;124;43m'\u001b[39;49m\u001b[43m)\u001b[49m\n\u001b[0;32m      8\u001b[0m \u001b[38;5;28mprint\u001b[39m(res)\n",
      "File \u001b[1;32m~\\anaconda3\\envs\\qc_qiskit\\lib\\site-packages\\scipy\\optimize\\_minimize.py:705\u001b[0m, in \u001b[0;36mminimize\u001b[1;34m(fun, x0, args, method, jac, hess, hessp, bounds, constraints, tol, callback, options)\u001b[0m\n\u001b[0;32m    702\u001b[0m     res \u001b[38;5;241m=\u001b[39m _minimize_tnc(fun, x0, args, jac, bounds, callback\u001b[38;5;241m=\u001b[39mcallback,\n\u001b[0;32m    703\u001b[0m                         \u001b[38;5;241m*\u001b[39m\u001b[38;5;241m*\u001b[39moptions)\n\u001b[0;32m    704\u001b[0m \u001b[38;5;28;01melif\u001b[39;00m meth \u001b[38;5;241m==\u001b[39m \u001b[38;5;124m'\u001b[39m\u001b[38;5;124mcobyla\u001b[39m\u001b[38;5;124m'\u001b[39m:\n\u001b[1;32m--> 705\u001b[0m     res \u001b[38;5;241m=\u001b[39m \u001b[43m_minimize_cobyla\u001b[49m\u001b[43m(\u001b[49m\u001b[43mfun\u001b[49m\u001b[43m,\u001b[49m\u001b[43m \u001b[49m\u001b[43mx0\u001b[49m\u001b[43m,\u001b[49m\u001b[43m \u001b[49m\u001b[43margs\u001b[49m\u001b[43m,\u001b[49m\u001b[43m \u001b[49m\u001b[43mconstraints\u001b[49m\u001b[43m,\u001b[49m\u001b[43m \u001b[49m\u001b[43mcallback\u001b[49m\u001b[38;5;241;43m=\u001b[39;49m\u001b[43mcallback\u001b[49m\u001b[43m,\u001b[49m\n\u001b[0;32m    706\u001b[0m \u001b[43m                            \u001b[49m\u001b[38;5;241;43m*\u001b[39;49m\u001b[38;5;241;43m*\u001b[39;49m\u001b[43moptions\u001b[49m\u001b[43m)\u001b[49m\n\u001b[0;32m    707\u001b[0m \u001b[38;5;28;01melif\u001b[39;00m meth \u001b[38;5;241m==\u001b[39m \u001b[38;5;124m'\u001b[39m\u001b[38;5;124mslsqp\u001b[39m\u001b[38;5;124m'\u001b[39m:\n\u001b[0;32m    708\u001b[0m     res \u001b[38;5;241m=\u001b[39m _minimize_slsqp(fun, x0, args, jac, bounds,\n\u001b[0;32m    709\u001b[0m                           constraints, callback\u001b[38;5;241m=\u001b[39mcallback, \u001b[38;5;241m*\u001b[39m\u001b[38;5;241m*\u001b[39moptions)\n",
      "File \u001b[1;32m~\\anaconda3\\envs\\qc_qiskit\\lib\\site-packages\\scipy\\optimize\\_cobyla_py.py:34\u001b[0m, in \u001b[0;36msynchronized.<locals>.wrapper\u001b[1;34m(*args, **kwargs)\u001b[0m\n\u001b[0;32m     31\u001b[0m \u001b[38;5;129m@functools\u001b[39m\u001b[38;5;241m.\u001b[39mwraps(func)\n\u001b[0;32m     32\u001b[0m \u001b[38;5;28;01mdef\u001b[39;00m \u001b[38;5;21mwrapper\u001b[39m(\u001b[38;5;241m*\u001b[39margs, \u001b[38;5;241m*\u001b[39m\u001b[38;5;241m*\u001b[39mkwargs):\n\u001b[0;32m     33\u001b[0m     \u001b[38;5;28;01mwith\u001b[39;00m _module_lock:\n\u001b[1;32m---> 34\u001b[0m         \u001b[38;5;28;01mreturn\u001b[39;00m \u001b[43mfunc\u001b[49m\u001b[43m(\u001b[49m\u001b[38;5;241;43m*\u001b[39;49m\u001b[43margs\u001b[49m\u001b[43m,\u001b[49m\u001b[43m \u001b[49m\u001b[38;5;241;43m*\u001b[39;49m\u001b[38;5;241;43m*\u001b[39;49m\u001b[43mkwargs\u001b[49m\u001b[43m)\u001b[49m\n",
      "File \u001b[1;32m~\\anaconda3\\envs\\qc_qiskit\\lib\\site-packages\\scipy\\optimize\\_cobyla_py.py:273\u001b[0m, in \u001b[0;36m_minimize_cobyla\u001b[1;34m(fun, x0, args, constraints, rhobeg, tol, maxiter, disp, catol, callback, **unknown_options)\u001b[0m\n\u001b[0;32m    270\u001b[0m         callback(np\u001b[38;5;241m.\u001b[39mcopy(x))\n\u001b[0;32m    272\u001b[0m info \u001b[38;5;241m=\u001b[39m np\u001b[38;5;241m.\u001b[39mzeros(\u001b[38;5;241m4\u001b[39m, np\u001b[38;5;241m.\u001b[39mfloat64)\n\u001b[1;32m--> 273\u001b[0m xopt, info \u001b[38;5;241m=\u001b[39m \u001b[43mcobyla\u001b[49m\u001b[38;5;241;43m.\u001b[39;49m\u001b[43mminimize\u001b[49m\u001b[43m(\u001b[49m\u001b[43mcalcfc\u001b[49m\u001b[43m,\u001b[49m\u001b[43m \u001b[49m\u001b[43mm\u001b[49m\u001b[38;5;241;43m=\u001b[39;49m\u001b[43mm\u001b[49m\u001b[43m,\u001b[49m\u001b[43m \u001b[49m\u001b[43mx\u001b[49m\u001b[38;5;241;43m=\u001b[39;49m\u001b[43mnp\u001b[49m\u001b[38;5;241;43m.\u001b[39;49m\u001b[43mcopy\u001b[49m\u001b[43m(\u001b[49m\u001b[43mx0\u001b[49m\u001b[43m)\u001b[49m\u001b[43m,\u001b[49m\u001b[43m \u001b[49m\u001b[43mrhobeg\u001b[49m\u001b[38;5;241;43m=\u001b[39;49m\u001b[43mrhobeg\u001b[49m\u001b[43m,\u001b[49m\n\u001b[0;32m    274\u001b[0m \u001b[43m                              \u001b[49m\u001b[43mrhoend\u001b[49m\u001b[38;5;241;43m=\u001b[39;49m\u001b[43mrhoend\u001b[49m\u001b[43m,\u001b[49m\u001b[43m \u001b[49m\u001b[43miprint\u001b[49m\u001b[38;5;241;43m=\u001b[39;49m\u001b[43miprint\u001b[49m\u001b[43m,\u001b[49m\u001b[43m \u001b[49m\u001b[43mmaxfun\u001b[49m\u001b[38;5;241;43m=\u001b[39;49m\u001b[43mmaxfun\u001b[49m\u001b[43m,\u001b[49m\n\u001b[0;32m    275\u001b[0m \u001b[43m                              \u001b[49m\u001b[43mdinfo\u001b[49m\u001b[38;5;241;43m=\u001b[39;49m\u001b[43minfo\u001b[49m\u001b[43m,\u001b[49m\u001b[43m \u001b[49m\u001b[43mcallback\u001b[49m\u001b[38;5;241;43m=\u001b[39;49m\u001b[43mwrapped_callback\u001b[49m\u001b[43m)\u001b[49m\n\u001b[0;32m    277\u001b[0m \u001b[38;5;28;01mif\u001b[39;00m info[\u001b[38;5;241m3\u001b[39m] \u001b[38;5;241m>\u001b[39m catol:\n\u001b[0;32m    278\u001b[0m     \u001b[38;5;66;03m# Check constraint violation\u001b[39;00m\n\u001b[0;32m    279\u001b[0m     info[\u001b[38;5;241m0\u001b[39m] \u001b[38;5;241m=\u001b[39m \u001b[38;5;241m4\u001b[39m\n",
      "File \u001b[1;32m~\\anaconda3\\envs\\qc_qiskit\\lib\\site-packages\\scipy\\optimize\\_cobyla_py.py:261\u001b[0m, in \u001b[0;36m_minimize_cobyla.<locals>.calcfc\u001b[1;34m(x, con)\u001b[0m\n\u001b[0;32m    260\u001b[0m \u001b[38;5;28;01mdef\u001b[39;00m \u001b[38;5;21mcalcfc\u001b[39m(x, con):\n\u001b[1;32m--> 261\u001b[0m     f \u001b[38;5;241m=\u001b[39m \u001b[43mfun\u001b[49m\u001b[43m(\u001b[49m\u001b[43mnp\u001b[49m\u001b[38;5;241;43m.\u001b[39;49m\u001b[43mcopy\u001b[49m\u001b[43m(\u001b[49m\u001b[43mx\u001b[49m\u001b[43m)\u001b[49m\u001b[43m,\u001b[49m\u001b[43m \u001b[49m\u001b[38;5;241;43m*\u001b[39;49m\u001b[43margs\u001b[49m\u001b[43m)\u001b[49m\n\u001b[0;32m    262\u001b[0m     i \u001b[38;5;241m=\u001b[39m \u001b[38;5;241m0\u001b[39m\n\u001b[0;32m    263\u001b[0m     \u001b[38;5;28;01mfor\u001b[39;00m size, c \u001b[38;5;129;01min\u001b[39;00m izip(cons_lengths, constraints):\n",
      "Input \u001b[1;32mIn [17]\u001b[0m, in \u001b[0;36mexpectation_execute_circuit\u001b[1;34m(param)\u001b[0m\n\u001b[0;32m     11\u001b[0m circuit \u001b[38;5;241m=\u001b[39m create_circuit(beta, gamma)\n\u001b[0;32m     13\u001b[0m shots \u001b[38;5;241m=\u001b[39m \u001b[38;5;241m1000\u001b[39m\n\u001b[1;32m---> 14\u001b[0m result \u001b[38;5;241m=\u001b[39m \u001b[43mionq\u001b[49m\u001b[38;5;241;43m.\u001b[39;49m\u001b[43mrun\u001b[49m\u001b[43m(\u001b[49m\u001b[43mcircuit\u001b[49m\u001b[43m,\u001b[49m\u001b[43m \u001b[49m\u001b[43mshots\u001b[49m\u001b[43m)\u001b[49m\u001b[38;5;241m.\u001b[39mresult()\n\u001b[0;32m     15\u001b[0m counts \u001b[38;5;241m=\u001b[39m result\u001b[38;5;241m.\u001b[39mmeasurement_counts\n\u001b[0;32m     17\u001b[0m \u001b[38;5;28;01mreturn\u001b[39;00m compute_expectation(counts, shots)\n",
      "File \u001b[1;32m~\\anaconda3\\envs\\qc_qiskit\\lib\\site-packages\\braket\\aws\\aws_device.py:162\u001b[0m, in \u001b[0;36mAwsDevice.run\u001b[1;34m(self, task_specification, s3_destination_folder, shots, poll_timeout_seconds, poll_interval_seconds, inputs, *aws_quantum_task_args, **aws_quantum_task_kwargs)\u001b[0m\n\u001b[0;32m     91\u001b[0m \u001b[38;5;28;01mdef\u001b[39;00m \u001b[38;5;21mrun\u001b[39m(\n\u001b[0;32m     92\u001b[0m     \u001b[38;5;28mself\u001b[39m,\n\u001b[0;32m     93\u001b[0m     task_specification: Union[\n\u001b[1;32m   (...)\u001b[0m\n\u001b[0;32m    107\u001b[0m     \u001b[38;5;241m*\u001b[39m\u001b[38;5;241m*\u001b[39maws_quantum_task_kwargs,\n\u001b[0;32m    108\u001b[0m ) \u001b[38;5;241m-\u001b[39m\u001b[38;5;241m>\u001b[39m AwsQuantumTask:\n\u001b[0;32m    109\u001b[0m     \u001b[38;5;124;03m\"\"\"\u001b[39;00m\n\u001b[0;32m    110\u001b[0m \u001b[38;5;124;03m    Run a quantum task specification on this device. A task can be a circuit or an\u001b[39;00m\n\u001b[0;32m    111\u001b[0m \u001b[38;5;124;03m    annealing problem.\u001b[39;00m\n\u001b[1;32m   (...)\u001b[0m\n\u001b[0;32m    160\u001b[0m \u001b[38;5;124;03m        `braket.aws.aws_quantum_task.AwsQuantumTask.create()`\u001b[39;00m\n\u001b[0;32m    161\u001b[0m \u001b[38;5;124;03m    \"\"\"\u001b[39;00m\n\u001b[1;32m--> 162\u001b[0m     \u001b[38;5;28;01mreturn\u001b[39;00m \u001b[43mAwsQuantumTask\u001b[49m\u001b[38;5;241;43m.\u001b[39;49m\u001b[43mcreate\u001b[49m\u001b[43m(\u001b[49m\n\u001b[0;32m    163\u001b[0m \u001b[43m        \u001b[49m\u001b[38;5;28;43mself\u001b[39;49m\u001b[38;5;241;43m.\u001b[39;49m\u001b[43m_aws_session\u001b[49m\u001b[43m,\u001b[49m\n\u001b[0;32m    164\u001b[0m \u001b[43m        \u001b[49m\u001b[38;5;28;43mself\u001b[39;49m\u001b[38;5;241;43m.\u001b[39;49m\u001b[43m_arn\u001b[49m\u001b[43m,\u001b[49m\n\u001b[0;32m    165\u001b[0m \u001b[43m        \u001b[49m\u001b[43mtask_specification\u001b[49m\u001b[43m,\u001b[49m\n\u001b[0;32m    166\u001b[0m \u001b[43m        \u001b[49m\u001b[43ms3_destination_folder\u001b[49m\n\u001b[0;32m    167\u001b[0m \u001b[43m        \u001b[49m\u001b[38;5;129;43;01mor\u001b[39;49;00m\u001b[43m \u001b[49m\u001b[43m(\u001b[49m\n\u001b[0;32m    168\u001b[0m \u001b[43m            \u001b[49m\u001b[43mAwsSession\u001b[49m\u001b[38;5;241;43m.\u001b[39;49m\u001b[43mparse_s3_uri\u001b[49m\u001b[43m(\u001b[49m\u001b[43mos\u001b[49m\u001b[38;5;241;43m.\u001b[39;49m\u001b[43menviron\u001b[49m\u001b[38;5;241;43m.\u001b[39;49m\u001b[43mget\u001b[49m\u001b[43m(\u001b[49m\u001b[38;5;124;43m\"\u001b[39;49m\u001b[38;5;124;43mAMZN_BRAKET_TASK_RESULTS_S3_URI\u001b[39;49m\u001b[38;5;124;43m\"\u001b[39;49m\u001b[43m)\u001b[49m\u001b[43m)\u001b[49m\n\u001b[0;32m    169\u001b[0m \u001b[43m            \u001b[49m\u001b[38;5;28;43;01mif\u001b[39;49;00m\u001b[43m \u001b[49m\u001b[38;5;124;43m\"\u001b[39;49m\u001b[38;5;124;43mAMZN_BRAKET_TASK_RESULTS_S3_URI\u001b[39;49m\u001b[38;5;124;43m\"\u001b[39;49m\u001b[43m \u001b[49m\u001b[38;5;129;43;01min\u001b[39;49;00m\u001b[43m \u001b[49m\u001b[43mos\u001b[49m\u001b[38;5;241;43m.\u001b[39;49m\u001b[43menviron\u001b[49m\n\u001b[0;32m    170\u001b[0m \u001b[43m            \u001b[49m\u001b[38;5;28;43;01melse\u001b[39;49;00m\u001b[43m \u001b[49m\u001b[38;5;28;43;01mNone\u001b[39;49;00m\n\u001b[0;32m    171\u001b[0m \u001b[43m        \u001b[49m\u001b[43m)\u001b[49m\n\u001b[0;32m    172\u001b[0m \u001b[43m        \u001b[49m\u001b[38;5;129;43;01mor\u001b[39;49;00m\u001b[43m \u001b[49m\u001b[43m(\u001b[49m\u001b[38;5;28;43mself\u001b[39;49m\u001b[38;5;241;43m.\u001b[39;49m\u001b[43m_aws_session\u001b[49m\u001b[38;5;241;43m.\u001b[39;49m\u001b[43mdefault_bucket\u001b[49m\u001b[43m(\u001b[49m\u001b[43m)\u001b[49m\u001b[43m,\u001b[49m\u001b[43m \u001b[49m\u001b[38;5;124;43m\"\u001b[39;49m\u001b[38;5;124;43mtasks\u001b[39;49m\u001b[38;5;124;43m\"\u001b[39;49m\u001b[43m)\u001b[49m\u001b[43m,\u001b[49m\n\u001b[0;32m    173\u001b[0m \u001b[43m        \u001b[49m\u001b[43mshots\u001b[49m\u001b[43m \u001b[49m\u001b[38;5;28;43;01mif\u001b[39;49;00m\u001b[43m \u001b[49m\u001b[43mshots\u001b[49m\u001b[43m \u001b[49m\u001b[38;5;129;43;01mis\u001b[39;49;00m\u001b[43m \u001b[49m\u001b[38;5;129;43;01mnot\u001b[39;49;00m\u001b[43m \u001b[49m\u001b[38;5;28;43;01mNone\u001b[39;49;00m\u001b[43m \u001b[49m\u001b[38;5;28;43;01melse\u001b[39;49;00m\u001b[43m \u001b[49m\u001b[38;5;28;43mself\u001b[39;49m\u001b[38;5;241;43m.\u001b[39;49m\u001b[43m_default_shots\u001b[49m\u001b[43m,\u001b[49m\n\u001b[0;32m    174\u001b[0m \u001b[43m        \u001b[49m\u001b[43mpoll_timeout_seconds\u001b[49m\u001b[38;5;241;43m=\u001b[39;49m\u001b[43mpoll_timeout_seconds\u001b[49m\u001b[43m,\u001b[49m\n\u001b[0;32m    175\u001b[0m \u001b[43m        \u001b[49m\u001b[43mpoll_interval_seconds\u001b[49m\u001b[38;5;241;43m=\u001b[39;49m\u001b[43mpoll_interval_seconds\u001b[49m\u001b[43m,\u001b[49m\n\u001b[0;32m    176\u001b[0m \u001b[43m        \u001b[49m\u001b[43minputs\u001b[49m\u001b[38;5;241;43m=\u001b[39;49m\u001b[43minputs\u001b[49m\u001b[43m,\u001b[49m\n\u001b[0;32m    177\u001b[0m \u001b[43m        \u001b[49m\u001b[38;5;241;43m*\u001b[39;49m\u001b[43maws_quantum_task_args\u001b[49m\u001b[43m,\u001b[49m\n\u001b[0;32m    178\u001b[0m \u001b[43m        \u001b[49m\u001b[38;5;241;43m*\u001b[39;49m\u001b[38;5;241;43m*\u001b[39;49m\u001b[43maws_quantum_task_kwargs\u001b[49m\u001b[43m,\u001b[49m\n\u001b[0;32m    179\u001b[0m \u001b[43m    \u001b[49m\u001b[43m)\u001b[49m\n",
      "File \u001b[1;32m~\\anaconda3\\envs\\qc_qiskit\\lib\\site-packages\\braket\\aws\\aws_quantum_task.py:159\u001b[0m, in \u001b[0;36mAwsQuantumTask.create\u001b[1;34m(aws_session, device_arn, task_specification, s3_destination_folder, shots, device_parameters, disable_qubit_rewiring, tags, inputs, *args, **kwargs)\u001b[0m\n\u001b[0;32m     87\u001b[0m \u001b[38;5;129m@staticmethod\u001b[39m\n\u001b[0;32m     88\u001b[0m \u001b[38;5;28;01mdef\u001b[39;00m \u001b[38;5;21mcreate\u001b[39m(\n\u001b[0;32m     89\u001b[0m     aws_session: AwsSession,\n\u001b[1;32m   (...)\u001b[0m\n\u001b[0;32m    106\u001b[0m     \u001b[38;5;241m*\u001b[39m\u001b[38;5;241m*\u001b[39mkwargs,\n\u001b[0;32m    107\u001b[0m ) \u001b[38;5;241m-\u001b[39m\u001b[38;5;241m>\u001b[39m AwsQuantumTask:\n\u001b[0;32m    108\u001b[0m     \u001b[38;5;124;03m\"\"\"AwsQuantumTask factory method that serializes a quantum task specification\u001b[39;00m\n\u001b[0;32m    109\u001b[0m \u001b[38;5;124;03m    (either a quantum circuit or annealing problem), submits it to Amazon Braket,\u001b[39;00m\n\u001b[0;32m    110\u001b[0m \u001b[38;5;124;03m    and returns back an AwsQuantumTask tracking the execution.\u001b[39;00m\n\u001b[1;32m   (...)\u001b[0m\n\u001b[0;32m    157\u001b[0m \u001b[38;5;124;03m        `braket.aws.aws_qpu.AwsQpu.run()`\u001b[39;00m\n\u001b[0;32m    158\u001b[0m \u001b[38;5;124;03m    \"\"\"\u001b[39;00m\n\u001b[1;32m--> 159\u001b[0m     \u001b[38;5;28;01mif\u001b[39;00m \u001b[38;5;28;43mlen\u001b[39;49m\u001b[43m(\u001b[49m\u001b[43ms3_destination_folder\u001b[49m\u001b[43m)\u001b[49m \u001b[38;5;241m!=\u001b[39m \u001b[38;5;241m2\u001b[39m:\n\u001b[0;32m    160\u001b[0m         \u001b[38;5;28;01mraise\u001b[39;00m \u001b[38;5;167;01mValueError\u001b[39;00m(\n\u001b[0;32m    161\u001b[0m             \u001b[38;5;124m\"\u001b[39m\u001b[38;5;124ms3_destination_folder must be of size 2 with a \u001b[39m\u001b[38;5;124m'\u001b[39m\u001b[38;5;124mbucket\u001b[39m\u001b[38;5;124m'\u001b[39m\u001b[38;5;124m and \u001b[39m\u001b[38;5;124m'\u001b[39m\u001b[38;5;124mkey\u001b[39m\u001b[38;5;124m'\u001b[39m\u001b[38;5;124m respectively.\u001b[39m\u001b[38;5;124m\"\u001b[39m\n\u001b[0;32m    162\u001b[0m         )\n\u001b[0;32m    164\u001b[0m     create_task_kwargs \u001b[38;5;241m=\u001b[39m _create_common_params(\n\u001b[0;32m    165\u001b[0m         device_arn,\n\u001b[0;32m    166\u001b[0m         s3_destination_folder,\n\u001b[0;32m    167\u001b[0m         shots \u001b[38;5;28;01mif\u001b[39;00m shots \u001b[38;5;129;01mis\u001b[39;00m \u001b[38;5;129;01mnot\u001b[39;00m \u001b[38;5;28;01mNone\u001b[39;00m \u001b[38;5;28;01melse\u001b[39;00m AwsQuantumTask\u001b[38;5;241m.\u001b[39mDEFAULT_SHOTS,\n\u001b[0;32m    168\u001b[0m     )\n",
      "\u001b[1;31mTypeError\u001b[0m: object of type 'int' has no len()"
     ]
    }
   ],
   "source": [
    "## Classical Optimizer ##\n",
    "\n",
    "from scipy.optimize import minimize\n",
    "\n",
    "res = minimize(expectation_execute_circuit,\n",
    "               [1.0, 1.0],\n",
    "               method='COBYLA')\n",
    "print(res)"
   ]
  },
  {
   "cell_type": "markdown",
   "id": "196fbbc3",
   "metadata": {},
   "source": [
    "## Analyzing the Results"
   ]
  },
  {
   "cell_type": "code",
   "execution_count": 16,
   "id": "bbd2768c",
   "metadata": {},
   "outputs": [
    {
     "name": "stdout",
     "output_type": "stream",
     "text": [
      "Counter({'10101': 123, '11100': 96, '00111': 71, '01001': 67, '10001': 65, '10010': 64, '00000': 52, '11011': 50, '10011': 34, '01000': 34, '10100': 27, '00101': 27, '01101': 25, '11010': 25, '00001': 25, '10111': 24, '01011': 22, '00010': 21, '00100': 21, '01110': 20, '11111': 19, '10110': 15, '11001': 14, '11101': 14, '11110': 12, '01100': 9, '00011': 6, '01010': 5, '11000': 5, '01111': 5, '10000': 3})\n"
     ]
    }
   ],
   "source": [
    "beta = res.get('x')[0]\n",
    "gamma = res.get('x')[1]\n",
    "circuit = create_circuit(0.28517317, -5.05969577)\n",
    "\n",
    "device = LocalSimulator()\n",
    "result = device.run(circuit, shots = 1000).result()\n",
    "counts = result.measurement_counts\n",
    "\n",
    "print(counts)\n",
    "\n",
    "# plot using Counter\n",
    "#plt.bar(counts.keys(), counts.values())\n",
    "#plt.xlabel('bitstrings')\n",
    "#plt.ylabel('counts')"
   ]
  },
  {
   "cell_type": "markdown",
   "id": "ac80d347",
   "metadata": {},
   "source": [
    "## Post-Processing\n",
    "\n",
    "Remove the output states that are not possible (among the top ten most probable states) and then check for the most probable states.\n",
    "Check for joined paths, that is check that if a path enum ending with a number exists, then another path enum starting with the same number also exists, unless its a source or destination. They should always be 1."
   ]
  },
  {
   "cell_type": "code",
   "execution_count": 17,
   "id": "d1373bbf",
   "metadata": {
    "scrolled": true
   },
   "outputs": [],
   "source": [
    "def check_state(s):\n",
    "    \n",
    "    ## Firstly check if the path starts from a source and ends at a destination\n",
    "    source_flag = False\n",
    "    destination_flag = False\n",
    "    multiple_branches = False\n",
    "    continuity_flag = True\n",
    "    \n",
    "    starting_nodes = []\n",
    "    ending_nodes = []\n",
    "    \n",
    "    ## Check to see if the source and destination nodes exist in the network\n",
    "    i=0\n",
    "    for i in range(len(s)):\n",
    "        if(s[i] == '1'):\n",
    "            \n",
    "            if(edges[i][0] == source):\n",
    "                source_flag = True\n",
    "            if(edges[i][1] == destination):\n",
    "                destination_flag = True\n",
    "                \n",
    "            starting_nodes += [edges[i][0]]\n",
    "            ending_nodes += [edges[i][1]]\n",
    "            \n",
    "    ## Now check if a node repeats itself in starting or ending_nodes. If yes, set multiple_branches\n",
    "    i = 0\n",
    "    for i in range(len(starting_nodes)):\n",
    "        cnt1 = starting_nodes.count(starting_nodes[i])\n",
    "        cnt2 = ending_nodes.count(ending_nodes[i])\n",
    "        if cnt1 > 1 or cnt2 > 1:\n",
    "            multiple_branches = True\n",
    "            break\n",
    "            \n",
    "    \n",
    "    ## Then iteratively go through ending nodes and check if the same node exists in the next starting_nodes index                \n",
    "    ## This is an easier check for continuity and necessarily requires the edges nodes to be in some order\n",
    "    ## Also go with the thumb rule that the destination node will be the last value of ending_nodes\n",
    "    for i in range(len(ending_nodes)-1):\n",
    "        if starting_nodes[i+1] != ending_nodes[i]:\n",
    "            continuity_flag = False\n",
    "            break\n",
    "                    \n",
    "    if source_flag and destination_flag and continuity_flag and (not multiple_branches):\n",
    "        return True\n",
    "    else:\n",
    "        return False\n",
    "\n",
    "# s = '10010'\n",
    "# flag = check_state(s)\n",
    "# print(flag)"
   ]
  },
  {
   "cell_type": "markdown",
   "id": "5c6f7a5a",
   "metadata": {},
   "source": [
    "## After Post-processing ##"
   ]
  },
  {
   "cell_type": "code",
   "execution_count": 18,
   "id": "61253a51",
   "metadata": {},
   "outputs": [
    {
     "name": "stdout",
     "output_type": "stream",
     "text": [
      "01001:67\n",
      "10101:123\n",
      "10010:64\n"
     ]
    }
   ],
   "source": [
    "states = list(counts.keys())\n",
    "possible_states = []\n",
    "i = 0\n",
    "for i in range(len(states)):\n",
    "    s = states[i]\n",
    "    flag = check_state(s)\n",
    "    if flag:\n",
    "        possible_states += [s]\n",
    "    \n",
    "del states\n",
    "\n",
    "i = 0\n",
    "for i in range(len(possible_states)):\n",
    "    print(possible_states[i]+':'+str(counts[possible_states[i]]))"
   ]
  },
  {
   "cell_type": "markdown",
   "id": "58b066dc",
   "metadata": {},
   "source": [
    "Therefore the most probable possible state is 10101."
   ]
  }
 ],
 "metadata": {
  "kernelspec": {
   "display_name": "Python 3 (ipykernel)",
   "language": "python",
   "name": "python3"
  },
  "language_info": {
   "codemirror_mode": {
    "name": "ipython",
    "version": 3
   },
   "file_extension": ".py",
   "mimetype": "text/x-python",
   "name": "python",
   "nbconvert_exporter": "python",
   "pygments_lexer": "ipython3",
   "version": "3.11.6"
  }
 },
 "nbformat": 4,
 "nbformat_minor": 5
}
