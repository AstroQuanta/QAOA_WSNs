{
 "cells": [
  {
   "cell_type": "code",
   "execution_count": 8,
   "id": "e6b2f40a-7b60-41b6-ae07-32bc13380be6",
   "metadata": {
    "tags": []
   },
   "outputs": [],
   "source": [
    "import qiskit\n",
    "from qiskit.test.ibmq_mock import mock_get_backend\n",
    "from qiskit_aer import Aer\n",
    "from qiskit_ibm_provider import IBMProvider\n",
    "\n",
    "from mitiq import zne\n",
    "from mitiq.interface.mitiq_qiskit.qiskit_utils import initialized_depolarizing_noise\n",
    "from qiskit.visualization import plot_histogram"
   ]
  },
  {
   "cell_type": "code",
   "execution_count": 2,
   "id": "0264ae20-88b4-4f6e-8b22-745f58c2c9cc",
   "metadata": {
    "tags": []
   },
   "outputs": [],
   "source": [
    "USE_REAL_HARDWARE = False"
   ]
  },
  {
   "cell_type": "code",
   "execution_count": 3,
   "id": "7c71ff26-3713-444c-a42e-9e106f2a9e95",
   "metadata": {
    "tags": []
   },
   "outputs": [
    {
     "name": "stdout",
     "output_type": "stream",
     "text": [
      "      ┌───┐┌───┐┌───┐┌───┐┌───┐┌───┐┌───┐┌───┐┌───┐┌───┐┌─┐\n",
      "  q0: ┤ X ├┤ X ├┤ X ├┤ X ├┤ X ├┤ X ├┤ X ├┤ X ├┤ X ├┤ X ├┤M├\n",
      "      └───┘└───┘└───┘└───┘└───┘└───┘└───┘└───┘└───┘└───┘└╥┘\n",
      "c0: 1/═══════════════════════════════════════════════════╩═\n",
      "                                                         0 \n"
     ]
    }
   ],
   "source": [
    "qreg, creg = qiskit.QuantumRegister(1), qiskit.ClassicalRegister(1)\n",
    "circuit = qiskit.QuantumCircuit(qreg, creg)\n",
    "for _ in range(10):\n",
    "    circuit.x(qreg)\n",
    "circuit.measure(qreg, creg)\n",
    "print(circuit)"
   ]
  },
  {
   "cell_type": "code",
   "execution_count": 4,
   "id": "dd15f7a5-431d-4a0c-af70-20fce7ae2656",
   "metadata": {
    "tags": []
   },
   "outputs": [],
   "source": [
    "if IBMProvider.saved_accounts() and USE_REAL_HARDWARE:\n",
    "    provider = IBMProvider()\n",
    "    backend = provider.get_backend(\"ibmq_qasm_simulator\")  # Set quantum computer here!\n",
    "else:\n",
    "    # Default to a simulator.\n",
    "    backend = Aer.get_backend(\"qasm_simulator\"),\n",
    "\n",
    "\n",
    "def ibmq_executor(circuit: qiskit.QuantumCircuit, shots: int = 8192) -> float:\n",
    "    \"\"\"Returns the expectation value to be mitigated.\n",
    "\n",
    "    Args:\n",
    "        circuit: Circuit to run.\n",
    "        shots: Number of times to execute the circuit to compute the expectation value.\n",
    "    \"\"\"\n",
    "    if USE_REAL_HARDWARE:\n",
    "        # Run the circuit on hardware\n",
    "        job = qiskit.execute(\n",
    "            experiments=circuit,\n",
    "            backend=backend,\n",
    "            optimization_level=0,  # Important to preserve folded gates.\n",
    "            shots=shots\n",
    "        )\n",
    "    else:\n",
    "        # Simulate the circuit with noise\n",
    "        noise_model = initialized_depolarizing_noise(noise_level=0.02)\n",
    "        job = qiskit.execute(\n",
    "            experiments=circuit,\n",
    "            backend=Aer.get_backend(\"qasm_simulator\"),\n",
    "            noise_model=noise_model,\n",
    "            basis_gates=noise_model.basis_gates,\n",
    "            optimization_level=0,  # Important to preserve folded gates.\n",
    "            shots=shots,\n",
    "        )\n",
    "\n",
    "    # Convert from raw measurement counts to the expectation value\n",
    "    counts = job.result().get_counts()\n",
    "    if counts.get(\"0\") is None:\n",
    "        expectation_value = 0.\n",
    "    else:\n",
    "        expectation_value = counts.get(\"0\") / shots\n",
    "    return expectation_value"
   ]
  },
  {
   "cell_type": "code",
   "execution_count": 10,
   "id": "f7818831-d3f9-4160-ae1f-ef332d88926a",
   "metadata": {
    "tags": []
   },
   "outputs": [
    {
     "name": "stdout",
     "output_type": "stream",
     "text": [
      "Unmitigated result 0.908\n",
      "Mitigated result 0.969\n"
     ]
    }
   ],
   "source": [
    "unmitigated = ibmq_executor(circuit)\n",
    "mitigated = zne.execute_with_zne(circuit, ibmq_executor)\n",
    "print(f\"Unmitigated result {unmitigated:.3f}\")\n",
    "print(f\"Mitigated result {mitigated:.3f}\")"
   ]
  },
  {
   "cell_type": "code",
   "execution_count": 11,
   "id": "413f2153-feca-43ce-8d75-71919a00c2d8",
   "metadata": {
    "tags": []
   },
   "outputs": [
    {
     "name": "stdout",
     "output_type": "stream",
     "text": [
      "Mitigated result 0.978\n"
     ]
    }
   ],
   "source": [
    "linear_factory = zne.inference.LinearFactory(scale_factors=[1.0, 1.5, 2.0, 2.5, 3.0])\n",
    "mitigated = zne.execute_with_zne(circuit, ibmq_executor, factory=linear_factory)\n",
    "print(f\"Mitigated result {mitigated:.3f}\")"
   ]
  },
  {
   "cell_type": "code",
   "execution_count": 12,
   "id": "97a0f9c9-e662-4c50-a897-4e0ba84544d8",
   "metadata": {
    "tags": []
   },
   "outputs": [
    {
     "name": "stdout",
     "output_type": "stream",
     "text": [
      "Mitigated result 1.000\n"
     ]
    }
   ],
   "source": [
    "mitigated = zne.execute_with_zne(circuit, ibmq_executor, scale_noise=zne.scaling.fold_global)\n",
    "print(f\"Mitigated result {mitigated:.3f}\")"
   ]
  },
  {
   "cell_type": "code",
   "execution_count": 13,
   "id": "9503d566-231f-446d-b475-5c3198375717",
   "metadata": {
    "tags": []
   },
   "outputs": [
    {
     "name": "stdout",
     "output_type": "stream",
     "text": [
      "Number of gates of folded circuit 0 scaled by: 1.000\n",
      "Number of gates of folded circuit 1 scaled by: 1.364\n",
      "Number of gates of folded circuit 2 scaled by: 1.909\n",
      "Number of gates of folded circuit 3 scaled by: 2.273\n",
      "Number of gates of folded circuit 4 scaled by: 2.818\n"
     ]
    }
   ],
   "source": [
    "scale_factors = [1., 1.5, 2., 2.5, 3.]\n",
    "folded_circuits = [\n",
    "        zne.scaling.fold_gates_at_random(circuit, scale)\n",
    "        for scale in scale_factors\n",
    "]\n",
    "\n",
    "# Check that the circuit depth is (approximately) scaled as expected\n",
    "for j, c in enumerate(folded_circuits):\n",
    "    print(f\"Number of gates of folded circuit {j} scaled by: {len(c) / len(circuit):.3f}\")"
   ]
  },
  {
   "cell_type": "code",
   "execution_count": 14,
   "id": "3e7143fb-9fee-4337-b53b-590ca59362e8",
   "metadata": {
    "tags": []
   },
   "outputs": [],
   "source": [
    "shots = 8192\n",
    "\n",
    "if USE_REAL_HARDWARE:\n",
    "    # Run the circuit on hardware\n",
    "    job = qiskit.execute(\n",
    "        experiments=folded_circuits,\n",
    "        backend=backend,\n",
    "        optimization_level=0,  # Important to preserve folded gates.\n",
    "        shots=shots\n",
    "    )\n",
    "else:\n",
    "    # Simulate the circuit with noise\n",
    "    noise_model = initialized_depolarizing_noise(noise_level=0.05)\n",
    "    job = qiskit.execute(\n",
    "        experiments=folded_circuits,\n",
    "        backend=Aer.get_backend(\"qasm_simulator\"),\n",
    "        noise_model=noise_model,\n",
    "        basis_gates=noise_model.basis_gates,\n",
    "        optimization_level=0,  # Important to preserve folded gates.\n",
    "        shots=shots,\n",
    "    )"
   ]
  },
  {
   "cell_type": "code",
   "execution_count": 15,
   "id": "6468655c-3ba6-476c-b58b-5a6aa6e5e7f8",
   "metadata": {
    "tags": []
   },
   "outputs": [
    {
     "name": "stdout",
     "output_type": "stream",
     "text": [
      "Expectation values:\n",
      "[0.793701171875, 0.74658203125, 0.6827392578125, 0.640380859375, 0.6026611328125]\n"
     ]
    }
   ],
   "source": [
    "all_counts = [job.result().get_counts(i) for i in range(len(folded_circuits))]\n",
    "expectation_values = [counts.get(\"0\") / shots for counts in all_counts]\n",
    "print(f\"Expectation values:\\n{expectation_values}\")"
   ]
  },
  {
   "cell_type": "code",
   "execution_count": 19,
   "id": "a068378a-6487-40a1-89a6-46bec5b039c0",
   "metadata": {
    "tags": []
   },
   "outputs": [
    {
     "name": "stdout",
     "output_type": "stream",
     "text": [
      "Unmitigated expectation value: 0.794\n"
     ]
    }
   ],
   "source": [
    "print(\"Unmitigated expectation value:\", round(expectation_values[0], 3))"
   ]
  },
  {
   "cell_type": "code",
   "execution_count": 20,
   "id": "f7efb750-18b8-4443-8479-50e7f46407f0",
   "metadata": {
    "tags": []
   },
   "outputs": [
    {
     "name": "stdout",
     "output_type": "stream",
     "text": [
      "Extrapolated zero-noise value: 1.012\n"
     ]
    }
   ],
   "source": [
    "zero_noise_value = zne.ExpFactory.extrapolate(scale_factors, expectation_values, asymptote=0.5)\n",
    "print(f\"Extrapolated zero-noise value:\", round(zero_noise_value, 3))"
   ]
  },
  {
   "cell_type": "code",
   "execution_count": null,
   "id": "c8bd424e-7753-48b0-af82-a8a47d30fec8",
   "metadata": {},
   "outputs": [],
   "source": []
  }
 ],
 "metadata": {
  "kernelspec": {
   "display_name": "Python 3 (ipykernel)",
   "language": "python",
   "name": "python3"
  },
  "language_info": {
   "codemirror_mode": {
    "name": "ipython",
    "version": 3
   },
   "file_extension": ".py",
   "mimetype": "text/x-python",
   "name": "python",
   "nbconvert_exporter": "python",
   "pygments_lexer": "ipython3",
   "version": "3.10.8"
  },
  "widgets": {
   "application/vnd.jupyter.widget-state+json": {
    "state": {},
    "version_major": 2,
    "version_minor": 0
   }
  }
 },
 "nbformat": 4,
 "nbformat_minor": 5
}
