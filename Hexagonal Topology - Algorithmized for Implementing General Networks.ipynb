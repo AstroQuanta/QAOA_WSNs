{
 "cells": [
  {
   "cell_type": "markdown",
   "id": "7cce3c79",
   "metadata": {},
   "source": [
    "# Reason for this test #\n",
    "\n",
    "### Documentation of an idea ###\n",
    "\n",
    "The point of adding the last fcost constraint expression, which is trivial anyways because it comes from <b>1</b> - <b>2</b> - <b>3</b>, is that these contraints then can be changed easily when changing the destination node. Just change the RHS of the constraint equations, that is subtract 1 or 0 accordingly."
   ]
  },
  {
   "cell_type": "code",
   "execution_count": 23,
   "id": "db8a5085",
   "metadata": {},
   "outputs": [],
   "source": [
    "from pyqubo import Array,Constraint,Placeholder"
   ]
  },
  {
   "cell_type": "markdown",
   "id": "ce1b6715",
   "metadata": {},
   "source": [
    "Follow the convention of the nodes appearing leftmost to have the smaller number labelling them"
   ]
  },
  {
   "cell_type": "code",
   "execution_count": 24,
   "id": "e497421f",
   "metadata": {},
   "outputs": [],
   "source": [
    "edges = [(1,2),(1,3),(2,3),(2,4),(2,5),(3,4),(3,5),(4,5),(4,6),(5,6)]\n",
    "weights = [5,8,2,7,4,3,1,1,2,10]\n",
    "\n",
    "nodes = 6\n",
    "## Set the source and destination nodes ##\n",
    "source = 1\n",
    "destination = 6\n",
    "\n",
    "x = Array.create(name = 'x', shape =len(edges), vartype = 'BINARY') "
   ]
  },
  {
   "cell_type": "markdown",
   "id": "e69ce690",
   "metadata": {},
   "source": [
    "Add the Linear Terms to the constraints"
   ]
  },
  {
   "cell_type": "code",
   "execution_count": 25,
   "id": "82e091bc",
   "metadata": {},
   "outputs": [],
   "source": [
    "i = 0\n",
    "fcost = 0\n",
    "for i in range(len(edges)):\n",
    "    fcost += (weights[i]*x[i]) ## Put the expression for constraints in"
   ]
  },
  {
   "cell_type": "markdown",
   "id": "aad94867",
   "metadata": {},
   "source": [
    "Add the Quadratic Terms to the constraints"
   ]
  },
  {
   "cell_type": "code",
   "execution_count": 26,
   "id": "f6b22911",
   "metadata": {},
   "outputs": [],
   "source": [
    "# Try to algorithmically add the constraints in\n",
    "p = 27\n",
    "\n",
    "node=1\n",
    "while(node<=nodes):\n",
    "    sum = 0\n",
    "    for j in range(len(edges)):\n",
    "        if edges[j][0] == node: ##Outgoing from the current node\n",
    "            sum += x[j]\n",
    "        elif edges[j][1] == node: ##Incoming into the current node\n",
    "            sum -= x[j]\n",
    "    \n",
    "    if node == source:\n",
    "        sum -= 1\n",
    "    elif node== destination:\n",
    "        sum += 1\n",
    "        \n",
    "    fcost += p*((sum)**2)\n",
    "        \n",
    "    # print(sum, \"For Node \"+str(node))\n",
    "    node+=1\n"
   ]
  },
  {
   "cell_type": "markdown",
   "id": "81a8ae85",
   "metadata": {},
   "source": [
    "Now Manually add in these constraints to fcost. The reason we're not doing it algorithmically is due to the nature of the QUBO model variables. For some reason only when each of the terms are added in one line does it show the correct results. Make sure to not add any brackets when hard-coding the expressions."
   ]
  },
  {
   "cell_type": "raw",
   "id": "7138c6a5",
   "metadata": {},
   "source": [
    "## Manually adding in the Constraints ##\n",
    "\n",
    "p = 27 # chosen arbitrarily. It represents the penalty for the constraints. Also another parameter that can be varied\n",
    "\n",
    "fcost += p*((x[0] + x[1] - 1)**2) \n",
    "fcost += p*((x[0] - x[2] - x[3]-0)**2)\n",
    "fcost += p*((x[1] + x[2] - x[4]-0)**2)\n",
    "fcost += p*((1-x[3]-x[4])**2)\n"
   ]
  },
  {
   "cell_type": "code",
   "execution_count": 27,
   "id": "e7ff065f",
   "metadata": {},
   "outputs": [
    {
     "name": "stdout",
     "output_type": "stream",
     "text": [
      "((27.000000 * ((1.000000 + (-1.000000 * Binary('x[9]')) + 0.000000 + (-1.000000 * Binary('x[8]'))) * (1.000000 + (-1.000000 * Binary('x[9]')) + 0.000000 + (-1.000000 * Binary('x[8]'))))) + (27.000000 * ((Binary('x[9]') + (-1.000000 * Binary('x[7]')) + (-1.000000 * Binary('x[6]')) + 0.000000 + (-1.000000 * Binary('x[4]'))) * (Binary('x[9]') + (-1.000000 * Binary('x[7]')) + (-1.000000 * Binary('x[6]')) + 0.000000 + (-1.000000 * Binary('x[4]'))))) + (27.000000 * ((Binary('x[8]') + Binary('x[7]') + (-1.000000 * Binary('x[5]')) + 0.000000 + (-1.000000 * Binary('x[3]'))) * (Binary('x[8]') + Binary('x[7]') + (-1.000000 * Binary('x[5]')) + 0.000000 + (-1.000000 * Binary('x[3]'))))) + (27.000000 * ((Binary('x[6]') + Binary('x[5]') + (-1.000000 * Binary('x[2]')) + 0.000000 + (-1.000000 * Binary('x[1]'))) * (Binary('x[6]') + Binary('x[5]') + (-1.000000 * Binary('x[2]')) + 0.000000 + (-1.000000 * Binary('x[1]'))))) + (27.000000 * ((Binary('x[4]') + Binary('x[3]') + Binary('x[2]') + 0.000000 + (-1.000000 * Binary('x[0]'))) * (Binary('x[4]') + Binary('x[3]') + Binary('x[2]') + 0.000000 + (-1.000000 * Binary('x[0]'))))) + (27.000000 * ((-1.000000 + Binary('x[1]') + 0.000000 + Binary('x[0]')) * (-1.000000 + Binary('x[1]') + 0.000000 + Binary('x[0]')))) + (10.000000 * Binary('x[9]')) + (2.000000 * Binary('x[8]')) + (1.000000 * Binary('x[7]')) + (1.000000 * Binary('x[6]')) + (3.000000 * Binary('x[5]')) + (4.000000 * Binary('x[4]')) + (7.000000 * Binary('x[3]')) + (2.000000 * Binary('x[2]')) + (8.000000 * Binary('x[1]')) + 0.000000 + (5.000000 * Binary('x[0]')))\n"
     ]
    }
   ],
   "source": [
    "print(fcost)"
   ]
  },
  {
   "cell_type": "code",
   "execution_count": 28,
   "id": "13e13dac",
   "metadata": {},
   "outputs": [],
   "source": [
    "model = fcost.compile()"
   ]
  },
  {
   "cell_type": "code",
   "execution_count": 29,
   "id": "68b3fc27",
   "metadata": {
    "scrolled": true
   },
   "outputs": [
    {
     "name": "stdout",
     "output_type": "stream",
     "text": [
      "({('x[6]', 'x[1]'): -54.0, ('x[4]', 'x[4]'): 58.0, ('x[3]', 'x[0]'): -54.0, ('x[6]', 'x[2]'): -54.0, ('x[5]', 'x[5]'): 57.0, ('x[9]', 'x[6]'): -54.0, ('x[9]', 'x[7]'): -54.0, ('x[4]', 'x[0]'): -54.0, ('x[8]', 'x[7]'): 54.0, ('x[2]', 'x[2]'): 56.0, ('x[4]', 'x[2]'): 54.0, ('x[6]', 'x[4]'): 54.0, ('x[8]', 'x[5]'): -54.0, ('x[7]', 'x[5]'): -54.0, ('x[8]', 'x[8]'): 2.0, ('x[5]', 'x[3]'): 54.0, ('x[1]', 'x[1]'): 8.0, ('x[3]', 'x[3]'): 61.0, ('x[0]', 'x[0]'): 5.0, ('x[7]', 'x[4]'): 54.0, ('x[8]', 'x[3]'): -54.0, ('x[7]', 'x[3]'): -54.0, ('x[3]', 'x[2]'): 54.0, ('x[5]', 'x[1]'): -54.0, ('x[6]', 'x[5]'): 54.0, ('x[1]', 'x[0]'): 54.0, ('x[2]', 'x[1]'): 54.0, ('x[6]', 'x[6]'): 55.0, ('x[4]', 'x[3]'): 54.0, ('x[9]', 'x[8]'): 54.0, ('x[7]', 'x[7]'): 55.0, ('x[5]', 'x[2]'): -54.0, ('x[2]', 'x[0]'): -54.0, ('x[7]', 'x[6]'): 54.0, ('x[9]', 'x[4]'): -54.0, ('x[9]', 'x[9]'): 10.0}, 54.0)\n"
     ]
    }
   ],
   "source": [
    "print(model.to_qubo())"
   ]
  },
  {
   "cell_type": "code",
   "execution_count": 30,
   "id": "e38e36eb",
   "metadata": {
    "scrolled": true
   },
   "outputs": [
    {
     "name": "stdout",
     "output_type": "stream",
     "text": [
      "Linear Coefficients {'x[0]': -24.5, 'x[1]': 4.0, 'x[2]': 28.0, 'x[3]': 30.5, 'x[4]': 56.0, 'x[5]': 1.5, 'x[6]': 27.5, 'x[7]': 27.5, 'x[8]': 1.0, 'x[9]': -22.0}\n",
      "Quadratic Coefficients {('x[0]', 'x[1]'): 13.5, ('x[5]', 'x[8]'): -13.5, ('x[6]', 'x[7]'): 13.5, ('x[2]', 'x[3]'): 13.5, ('x[1]', 'x[6]'): -13.5, ('x[0]', 'x[2]'): -13.5, ('x[1]', 'x[5]'): -13.5, ('x[3]', 'x[4]'): 13.5, ('x[0]', 'x[3]'): -13.5, ('x[0]', 'x[4]'): -13.5, ('x[1]', 'x[2]'): 13.5, ('x[2]', 'x[4]'): 13.5, ('x[2]', 'x[5]'): -13.5, ('x[2]', 'x[6]'): -13.5, ('x[3]', 'x[5]'): 13.5, ('x[3]', 'x[7]'): -13.5, ('x[3]', 'x[8]'): -13.5, ('x[4]', 'x[6]'): 13.5, ('x[4]', 'x[7]'): 13.5, ('x[4]', 'x[9]'): -13.5, ('x[5]', 'x[6]'): 13.5, ('x[5]', 'x[7]'): -13.5, ('x[6]', 'x[9]'): -13.5, ('x[7]', 'x[9]'): -13.5, ('x[8]', 'x[9]'): 13.5, ('x[7]', 'x[8]'): 13.5}\n"
     ]
    }
   ],
   "source": [
    "linear, quadratic, offset = model.to_ising()\n",
    "print(\"Linear Coefficients\", linear)\n",
    "print(\"Quadratic Coefficients\", quadratic)\n",
    "\n",
    "## The objective function is then made from these linear and quadratic terms ##\n",
    "## The objective function represents the Problem Hamiltonian Hp ##"
   ]
  },
  {
   "cell_type": "markdown",
   "id": "1bf4a09a",
   "metadata": {},
   "source": [
    "### So making these changes to the fcost constraint expressions did not have any change to the QUBO model generated, which checks out ###"
   ]
  },
  {
   "attachments": {
    "image-2.png": {
     "image/png": "[encoded data removed]"
    }
   },
   "cell_type": "markdown",
   "id": "2dbf34e5",
   "metadata": {},
   "source": [
    "## Modified Network ##\n",
    "\n",
    "### Node 2 is the destination node ###\n",
    "\n",
    "![image-2.png](attachment:image-2.png)"
   ]
  },
  {
   "cell_type": "code",
   "execution_count": 31,
   "id": "5a90a88d",
   "metadata": {},
   "outputs": [],
   "source": [
    "# general imports\n",
    "import numpy as np\n",
    "import matplotlib.pyplot as plt\n",
    "# magic word for producing visualizations in notebook\n",
    "%matplotlib inline\n",
    "import string\n",
    "import time"
   ]
  },
  {
   "cell_type": "code",
   "execution_count": 32,
   "id": "3739b07c",
   "metadata": {},
   "outputs": [],
   "source": [
    "# AWS imports: Import Braket SDK modules\n",
    "from braket.circuits import Circuit, Gate, Observable\n",
    "from braket.devices import LocalSimulator\n",
    "from braket.aws import AwsDevice, AwsQuantumTask"
   ]
  },
  {
   "cell_type": "code",
   "execution_count": 33,
   "id": "06070c44",
   "metadata": {},
   "outputs": [],
   "source": [
    "def create_circuit(beta, gamma):\n",
    "    ## initializing the initial qubit state with H gates ##\n",
    "    circuit = Circuit()\n",
    "    n_qubits = len(edges)\n",
    "\n",
    "    for qubit in range(n_qubits):\n",
    "        circuit.h(qubit)\n",
    "    \n",
    "    ## Implementing the problem Hamiltonian ##\n",
    "    for qubit in range(n_qubits):\n",
    "        linear_coeff = linear.get('x['+str(qubit)+']')\n",
    "        circuit = circuit.rz(qubit, -1*linear_coeff)\n",
    "\n",
    "    #Algorithmic method to add the ZZ gates - CHECK TO SEE IF IT AFFECTS THE RESULTS(it should'nt because they commute)\n",
    "    for i in range(len(quadratic)):\n",
    "        qubit_1 = int(list(quadratic.keys())[i][0][2])\n",
    "        qubit_2 = int(list(quadratic.keys())[i][1][2])\n",
    "\n",
    "        quadratic_coeff = quadratic.get(('x['+str(qubit_1)+']', 'x['+str(qubit_2)+']'))\n",
    "\n",
    "    # The Ising-Coupling Gate\n",
    "        #circuit.zz(qubit_1, qubit_2, quadratic_coeff*gamma)\n",
    "        circuit.cnot(control=qubit_1, target=qubit_2)\n",
    "        circuit.rz(qubit_2, quadratic_coeff*gamma)\n",
    "        circuit.cnot(control=qubit_1, target=qubit_2)\n",
    "    \n",
    "    ## Implementing the Mixer Hamiltonian ##\n",
    "    for qubit in range(n_qubits):\n",
    "        circuit.rx(qubit, 2*beta) # theta=2*beta because rx rotates the qubit about X by theta/2 angle\n",
    "        \n",
    "    return circuit"
   ]
  },
  {
   "cell_type": "markdown",
   "id": "c387e174",
   "metadata": {},
   "source": [
    "* <b>Remember that there are 3 parameters that can be varied - beta, gamma and penalty p </b>"
   ]
  },
  {
   "cell_type": "code",
   "execution_count": 34,
   "id": "d5dce4d3",
   "metadata": {},
   "outputs": [],
   "source": [
    "## Expectation value of the Hamiltonian is basically the expected cost value which we can get from an average of the\n",
    "## cost values over all states that have occurred ##\n",
    "def compute_expectation(counts, shots):\n",
    "    \n",
    "    expectation = 0\n",
    "    sum = 0\n",
    "    states = list(counts.keys())\n",
    "    for i in range(len(states)):\n",
    "        state = states[i] # string variable of the current qubit states\n",
    "        state_cost = 0\n",
    "        for j in range(len(state)): # Convention of the states is that the left-most qubit is the first qubit q0\n",
    "            state_cost = state_cost + int(state[j])*weights[j]\n",
    "        \n",
    "        expectation = expectation + state_cost*counts.get(state)\n",
    "        \n",
    "    expectation /= 1000\n",
    "    # print(expectation)\n",
    "    return expectation"
   ]
  },
  {
   "cell_type": "code",
   "execution_count": 35,
   "id": "ff39f9f7",
   "metadata": {},
   "outputs": [],
   "source": [
    "## Now we measure the circuit ##\n",
    "def expectation_execute_circuit(param):\n",
    "    ## Set up the device to run the circuit\n",
    "    device = LocalSimulator()\n",
    "    \n",
    "    ## QAOA parameters to be optimized such that the eigenvalue Cost(β, γ) can be minimized ##\n",
    "    beta = param[0]\n",
    "    gamma = param[1]\n",
    "    \n",
    "    circuit = create_circuit(beta, gamma)\n",
    "    \n",
    "    shots = 1000\n",
    "    result = device.run(circuit, shots).result()\n",
    "    counts = result.measurement_counts\n",
    "    \n",
    "    return compute_expectation(counts, shots)    "
   ]
  },
  {
   "cell_type": "code",
   "execution_count": 36,
   "id": "6f9ee2fd",
   "metadata": {
    "scrolled": true
   },
   "outputs": [
    {
     "name": "stdout",
     "output_type": "stream",
     "text": [
      " message: Optimization terminated successfully.\n",
      " success: True\n",
      "  status: 1\n",
      "     fun: 20.349\n",
      "       x: [ 1.340e+00  3.010e+00]\n",
      "    nfev: 33\n",
      "   maxcv: 0.0\n"
     ]
    }
   ],
   "source": [
    "## Classical Optimizer ##\n",
    "\n",
    "from scipy.optimize import minimize\n",
    "\n",
    "res = minimize(expectation_execute_circuit,\n",
    "               [1.0, 1.0],\n",
    "               method='COBYLA')\n",
    "print(res)"
   ]
  },
  {
   "cell_type": "markdown",
   "id": "196fbbc3",
   "metadata": {},
   "source": [
    "## Analyzing the Results"
   ]
  },
  {
   "cell_type": "code",
   "execution_count": 37,
   "id": "bbd2768c",
   "metadata": {},
   "outputs": [
    {
     "name": "stdout",
     "output_type": "stream",
     "text": [
      "Counter({'1010011110': 12, '1010010110': 12, '1010011101': 12, '0010011111': 9, '1100011010': 8, '1010011111': 8, '1010001010': 8, '0011111111': 8, '1010011010': 8, '1010011000': 7, '1010001110': 7, '1010010111': 7, '1110011110': 6, '1000101111': 6, '0010011110': 6, '1010110110': 6, '1110011111': 6, '1000010111': 6, '0011011110': 6, '0011111011': 6, '0110011111': 6, '0000011111': 5, '0100011111': 5, '1010001111': 5, '1100011101': 5, '0010010111': 5, '0010111111': 5, '0110011010': 5, '0001010110': 5, '1000011111': 5, '1011011111': 5, '1010111110': 5, '1010011011': 5, '1100011111': 5, '0111111111': 5, '1110111011': 5, '0010100110': 4, '0011111101': 4, '0001010101': 4, '0010001110': 4, '1110011101': 4, '0011111000': 4, '1001111101': 4, '0110010110': 4, '1110001010': 4, '1011111100': 4, '1011111111': 4, '1010010101': 4, '1010000110': 4, '1000001010': 4, '0010110110': 4, '1100111010': 4, '1000101110': 4, '1100011100': 4, '1111011110': 4, '1000001110': 4, '1010000111': 4, '1011011001': 4, '0000010110': 4, '0010011101': 3, '0000010111': 3, '1010011100': 3, '1000010110': 3, '0010101010': 3, '1111111101': 3, '1110011011': 3, '0000110010': 3, '0010101110': 3, '0111011100': 3, '1101110110': 3, '1000101010': 3, '0001000110': 3, '0010111010': 3, '1100101111': 3, '0110011101': 3, '1010111000': 3, '1100001010': 3, '0011010010': 3, '1000001001': 3, '1011011000': 3, '1000000110': 3, '1100011110': 3, '1011110101': 3, '1110011010': 3, '0010010110': 3, '0010001010': 3, '0011011000': 3, '1110101111': 3, '0100011101': 3, '0010111101': 3, '1111111110': 3, '0011110010': 3, '0000000010': 3, '1010111011': 3, '1100010111': 3, '1000001111': 3, '1110111111': 3, '1100110110': 3, '1101011101': 3, '1100010101': 3, '0011011101': 3, '1000011011': 3, '0110111110': 3, '1111111111': 3, '1000010101': 3, '1110001110': 3, '1010111010': 3, '0011111010': 3, '0101111111': 3, '0010110001': 3, '1100111011': 3, '1001001111': 3, '1101111101': 3, '0110111011': 2, '1011110000': 2, '1110010011': 2, '1011111010': 2, '0010010100': 2, '0110111100': 2, '1101111111': 2, '1000111101': 2, '0101111110': 2, '0100011001': 2, '0000001110': 2, '0110111111': 2, '1110010110': 2, '1000111000': 2, '1000001011': 2, '1010111100': 2, '0000111011': 2, '1000111110': 2, '0010110100': 2, '1101011010': 2, '1010101111': 2, '1110100010': 2, '1001011101': 2, '0101111101': 2, '1010111111': 2, '1001111110': 2, '1110011000': 2, '0011011100': 2, '1110001100': 2, '1010011001': 2, '1110010101': 2, '1000001101': 2, '1100101010': 2, '0111011010': 2, '1000110111': 2, '1001100111': 2, '1101111000': 2, '1101010000': 2, '1011011011': 2, '0000110110': 2, '1010101110': 2, '0110010111': 2, '0010010101': 2, '0011110100': 2, '1001011110': 2, '0110111010': 2, '0000011110': 2, '1011111110': 2, '0110001111': 2, '0010001101': 2, '0001101000': 2, '1110101110': 2, '0010000010': 2, '0001110110': 2, '1011001111': 2, '1000011010': 2, '1000110110': 2, '0000110111': 2, '1100111111': 2, '0000100101': 2, '0001101010': 2, '0000001010': 2, '1100011001': 2, '1000010011': 2, '1000000100': 2, '1011111101': 2, '0000011100': 2, '1011001110': 2, '0010011011': 2, '1000000111': 2, '0100111110': 2, '0000010100': 2, '1010101011': 2, '1000110010': 2, '0010010010': 2, '1011011101': 2, '1010110000': 2, '0000101111': 2, '0001110111': 2, '0010011010': 2, '0000011011': 2, '0111011001': 2, '1100010100': 2, '1011001000': 2, '1011001001': 2, '0101111011': 2, '0011110111': 2, '0111110110': 2, '0110101011': 2, '1001011111': 2, '1100101101': 2, '1011101111': 2, '0000101001': 2, '1001001110': 2, '0001011001': 2, '0000100111': 2, '0010100111': 2, '1011011010': 2, '1011011110': 2, '1001011001': 2, '1010001011': 2, '0010001111': 2, '1111011011': 2, '0100000110': 2, '0001011110': 2, '1000011001': 2, '1100010010': 2, '1001010010': 2, '1000000001': 2, '0000111010': 2, '1100000010': 2, '1110011100': 2, '1010010011': 2, '1010010010': 2, '0101011100': 2, '0100011110': 2, '1001100010': 2, '1001101100': 2, '1000011110': 2, '1010110101': 2, '1101101101': 2, '0101011001': 1, '1100011000': 1, '1011010010': 1, '0101011111': 1, '1010110111': 1, '1100101011': 1, '0111111001': 1, '1010100010': 1, '1101010111': 1, '0100101101': 1, '1110111001': 1, '0001010100': 1, '1100110100': 1, '1110110100': 1, '1111101011': 1, '1111001101': 1, '0011100010': 1, '0000101110': 1, '1010001101': 1, '1101111001': 1, '1111010001': 1, '1001110110': 1, '0101001111': 1, '0000011001': 1, '1101001001': 1, '0010110000': 1, '0001001110': 1, '1000000010': 1, '1100111100': 1, '1111010011': 1, '1001101101': 1, '1100000101': 1, '1111010110': 1, '0110101010': 1, '0010111011': 1, '1010010001': 1, '1000101011': 1, '1110011001': 1, '0100010000': 1, '1001110101': 1, '1101011011': 1, '1100001111': 1, '1001010001': 1, '1001100101': 1, '1010010000': 1, '0110011110': 1, '1001110001': 1, '0110011100': 1, '1011110011': 1, '1101111010': 1, '1000100000': 1, '0100011100': 1, '0101010101': 1, '0100001111': 1, '1010001001': 1, '1101010101': 1, '0010100100': 1, '0101111010': 1, '1001010011': 1, '0011000110': 1, '0000110101': 1, '0000001100': 1, '0100100110': 1, '0101001000': 1, '0100110010': 1, '1101001000': 1, '1100001011': 1, '1000101000': 1, '1101011110': 1, '0000111111': 1, '0011101111': 1, '0101011011': 1, '0011011010': 1, '0010001000': 1, '1010101101': 1, '1111010010': 1, '1001001001': 1, '1000011000': 1, '1110110000': 1, '0100001011': 1, '0101110100': 1, '1010000101': 1, '1010101000': 1, '0111101101': 1, '0101111000': 1, '0100011011': 1, '1100001000': 1, '0101110000': 1, '0001100111': 1, '0011010110': 1, '0110110000': 1, '0100111001': 1, '0010011001': 1, '1011101001': 1, '0000001111': 1, '1111101100': 1, '0101010111': 1, '0000111100': 1, '1100001110': 1, '1101111110': 1, '1000101100': 1, '1110000010': 1, '1010000000': 1, '0011011001': 1, '0000101010': 1, '0001111000': 1, '1000100011': 1, '1000110000': 1, '1011010100': 1, '0111101111': 1, '1000110101': 1, '1000000000': 1, '0110100010': 1, '1101011100': 1, '0111010000': 1, '1111011101': 1, '1000100010': 1, '0010000110': 1, '1001000001': 1, '1001110010': 1, '1001010110': 1, '0111111101': 1, '0001100010': 1, '0001010011': 1, '1110000101': 1, '1100000100': 1, '1010000001': 1, '0001111111': 1, '0010110010': 1, '0110001010': 1, '1000111111': 1, '1101001110': 1, '0011011111': 1, '0001101111': 1, '0111110111': 1, '1101110000': 1, '0010110111': 1, '1001110111': 1, '1000110011': 1, '0100111101': 1, '0111001010': 1, '0100110100': 1, '0000101101': 1, '0000011000': 1, '0011101110': 1, '1110000100': 1, '1000010010': 1, '0100011000': 1, '0001110100': 1, '0001011100': 1, '0101101001': 1, '0100100010': 1, '0000110000': 1, '0010111110': 1, '1100110101': 1, '0100000100': 1, '1101100110': 1, '1101010001': 1, '1111011100': 1, '1100111001': 1, '0001011011': 1, '0100111111': 1, '0001001101': 1, '1111110011': 1, '1100110010': 1, '0111011110': 1, '0101111100': 1, '1010000010': 1, '1011010110': 1, '0111111000': 1, '1000111010': 1, '0001101101': 1, '0100110111': 1, '0011000111': 1, '0100001010': 1, '0011010101': 1, '0100010101': 1, '1100001001': 1, '1110110111': 1, '0101011000': 1, '1011111001': 1, '1110111101': 1, '0000001011': 1, '0001011111': 1, '1001001101': 1, '0100100011': 1, '1011001101': 1, '0001101011': 1, '1111100100': 1, '0100010011': 1, '1001110011': 1, '1000001000': 1, '1111011001': 1, '0000101100': 1, '0100111010': 1, '1011110110': 1, '1000100101': 1, '0110010101': 1, '0010101111': 1, '0111111110': 1, '1100000000': 1, '1000011101': 1, '0011101001': 1, '1001101110': 1, '1101101111': 1, '1101010010': 1, '0001010111': 1, '1111011000': 1, '1101000001': 1, '0001010010': 1, '1111000010': 1, '0010001011': 1, '1000110100': 1, '0001110001': 1, '0000000111': 1, '1101011111': 1, '1011101000': 1, '1001001000': 1, '0100110001': 1, '1001000010': 1, '0110010100': 1, '1110010111': 1, '1100011011': 1, '1111110111': 1, '1100001101': 1, '0100101000': 1, '0110011001': 1, '0111000101': 1, '0010101100': 1, '1100000110': 1, '1011101100': 1, '0110000100': 1, '0011101100': 1, '1011000100': 1, '0011101011': 1, '1100111101': 1, '0011111100': 1, '0010011100': 1, '0001000011': 1, '1001011100': 1, '0111111010': 1, '1010110010': 1, '0110101111': 1, '0101101101': 1, '0111111100': 1, '1011110111': 1, '0100101111': 1, '0010111001': 1, '1010100101': 1, '0110000101': 1, '1000010100': 1, '1001010100': 1, '0011100100': 1, '1010101010': 1, '1001101010': 1, '0111001111': 1, '0011001010': 1, '0000100000': 1, '1001100110': 1, '1010010100': 1, '1110111010': 1, '0001000100': 1, '1010001000': 1, '1101111011': 1, '1110111000': 1, '0011111001': 1, '1110111110': 1, '0100001001': 1, '0000010010': 1})\n"
     ]
    }
   ],
   "source": [
    "beta = res.get('x')[0]\n",
    "gamma = res.get('x')[1]\n",
    "circuit = create_circuit(beta, gamma)\n",
    "\n",
    "device = LocalSimulator()\n",
    "result = device.run(circuit, shots = 1000).result()\n",
    "counts = result.measurement_counts\n",
    "\n",
    "print(counts)\n",
    "\n",
    "# plot using Counter\n",
    "#plt.bar(counts.keys(), counts.values())\n",
    "#plt.xlabel('bitstrings')\n",
    "#plt.ylabel('counts')"
   ]
  },
  {
   "cell_type": "markdown",
   "id": "ac80d347",
   "metadata": {},
   "source": [
    "## Post-Processing\n",
    "\n",
    "Remove the output states that are not possible (among the top ten most probable states) and then check for the most probable states.\n",
    "Check for joined paths, that is check that if a path enum ending with a number exists, then another path enum starting with the same number also exists, unless its a source or destination. They should always be 1."
   ]
  },
  {
   "cell_type": "code",
   "execution_count": 38,
   "id": "d1373bbf",
   "metadata": {
    "scrolled": true
   },
   "outputs": [],
   "source": [
    "def check_state(s):\n",
    "    \n",
    "    ## Firstly check if the path starts from a source and ends at a destination\n",
    "    source_flag = False\n",
    "    destination_flag = False\n",
    "    multiple_branches = False\n",
    "    continuity_flag = True\n",
    "    \n",
    "    starting_nodes = []\n",
    "    ending_nodes = []\n",
    "    \n",
    "    ## Check to see if the source and destination nodes exist in the network\n",
    "    i=0\n",
    "    for i in range(len(s)):\n",
    "        if(s[i] == '1'):\n",
    "            \n",
    "            if(edges[i][0] == source):\n",
    "                source_flag = True\n",
    "            if(edges[i][1] == destination):\n",
    "                destination_flag = True\n",
    "                \n",
    "            starting_nodes += [edges[i][0]]\n",
    "            ending_nodes += [edges[i][1]]\n",
    "            \n",
    "    ## Now check if a node repeats itself in starting or ending_nodes. If yes, set multiple_branches\n",
    "    i = 0\n",
    "    for i in range(len(starting_nodes)):\n",
    "        cnt1 = starting_nodes.count(starting_nodes[i])\n",
    "        cnt2 = ending_nodes.count(ending_nodes[i])\n",
    "        if cnt1 > 1 or cnt2 > 1:\n",
    "            multiple_branches = True\n",
    "            break\n",
    "            \n",
    "    \n",
    "    ## Then iteratively go through ending nodes and check if the same node exists in the next starting_nodes index                \n",
    "    ## This is an easier check for continuity and necessarily requires the edges nodes to be in some order\n",
    "    ## Also go with the thumb rule that the destination node will be the last value of ending_nodes\n",
    "    for i in range(len(ending_nodes)-1):\n",
    "        if starting_nodes[i+1] != ending_nodes[i]:\n",
    "            continuity_flag = False\n",
    "            break\n",
    "                    \n",
    "    if source_flag and destination_flag and continuity_flag and (not multiple_branches):\n",
    "        return True\n",
    "    else:\n",
    "        return False\n",
    "\n",
    "# s = '10010'\n",
    "# flag = check_state(s)\n",
    "# print(flag)"
   ]
  },
  {
   "cell_type": "markdown",
   "id": "5c6f7a5a",
   "metadata": {},
   "source": [
    "## After Post-processing ##"
   ]
  },
  {
   "cell_type": "code",
   "execution_count": 59,
   "id": "61253a51",
   "metadata": {
    "scrolled": true
   },
   "outputs": [
    {
     "name": "stdout",
     "output_type": "stream",
     "text": [
      "1010001001:1\n",
      "1010010101:4\n",
      "0100010101:1\n",
      "1010010010:2\n",
      "1001000010:1\n",
      "0100001001:1\n"
     ]
    }
   ],
   "source": [
    "states = list(counts.keys())\n",
    "possible_states = []\n",
    "i = 0\n",
    "for i in range(len(states)):\n",
    "    s = states[i]\n",
    "    flag = check_state(s)\n",
    "    if flag:\n",
    "        possible_states += [s]\n",
    "    \n",
    "del states\n",
    "\n",
    "i = 0\n",
    "for i in range(len(possible_states)):\n",
    "    print(possible_states[i]+':'+str(counts[possible_states[i]]))"
   ]
  },
  {
   "cell_type": "markdown",
   "id": "58b066dc",
   "metadata": {},
   "source": [
    "Therefore the most probable possible state is 10101."
   ]
  }
 ],
 "metadata": {
  "kernelspec": {
   "display_name": "Python 3 (ipykernel)",
   "language": "python",
   "name": "python3"
  },
  "language_info": {
   "codemirror_mode": {
    "name": "ipython",
    "version": 3
   },
   "file_extension": ".py",
   "mimetype": "text/x-python",
   "name": "python",
   "nbconvert_exporter": "python",
   "pygments_lexer": "ipython3",
   "version": "3.11.5"
  }
 },
 "nbformat": 4,
 "nbformat_minor": 5
}
