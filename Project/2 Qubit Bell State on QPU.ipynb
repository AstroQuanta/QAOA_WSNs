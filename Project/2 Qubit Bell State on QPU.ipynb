{
 "cells": [
  {
   "cell_type": "code",
   "execution_count": 1,
   "id": "cd0d70d3",
   "metadata": {},
   "outputs": [],
   "source": [
    "# Use Braket SDK Cost Tracking to estimate the cost to run this example\n",
    "from braket.tracking import Tracker\n",
    "t = Tracker().start()"
   ]
  },
  {
   "cell_type": "code",
   "execution_count": 2,
   "id": "38419806",
   "metadata": {},
   "outputs": [],
   "source": [
    "# general imports\n",
    "import numpy as np\n",
    "import matplotlib.pyplot as plt\n",
    "# magic word for producing visualizations in notebook\n",
    "%matplotlib inline\n",
    "import string\n",
    "import time\n",
    "\n",
    "# AWS imports: Import Braket SDK modules\n",
    "from braket.circuits import Circuit, Gate, Observable\n",
    "from braket.devices import LocalSimulator\n",
    "from braket.aws import AwsDevice, AwsQuantumTask"
   ]
  },
  {
   "cell_type": "code",
   "execution_count": 3,
   "id": "2e47bea6",
   "metadata": {},
   "outputs": [
    {
     "name": "stdout",
     "output_type": "stream",
     "text": [
      "Gate set supported by SDK:\n",
      " ['CCNot', 'CNot', 'CPhaseShift', 'CPhaseShift00', 'CPhaseShift01', 'CPhaseShift10', 'CSwap', 'CV', 'CY', 'CZ', 'ECR', 'GPi', 'GPi2', 'H', 'I', 'ISwap', 'MS', 'PSwap', 'PhaseShift', 'PulseGate', 'Rx', 'Ry', 'Rz', 'S', 'Si', 'Swap', 'T', 'Ti', 'Unitary', 'V', 'Vi', 'X', 'XX', 'XY', 'Y', 'YY', 'Z', 'ZZ']\n",
      "\n",
      "\n",
      "Gate set supported by the Rigetti device:\n",
      " ['cz', 'xy', 'ccnot', 'cnot', 'cphaseshift', 'cphaseshift00', 'cphaseshift01', 'cphaseshift10', 'cswap', 'h', 'i', 'iswap', 'phaseshift', 'pswap', 'rx', 'ry', 'rz', 's', 'si', 'swap', 't', 'ti', 'x', 'y', 'z', 'start_verbatim_box', 'end_verbatim_box']\n",
      "\n",
      "\n",
      "Gate set supported by the IonQ device:\n",
      " ['x', 'y', 'z', 'rx', 'ry', 'rz', 'h', 'cnot', 's', 'si', 't', 'ti', 'v', 'vi', 'xx', 'yy', 'zz', 'swap']\n",
      "\n",
      "\n",
      "Gate set supported by the OQC device:\n",
      " ['ccnot', 'cnot', 'cphaseshift', 'cswap', 'cy', 'cz', 'h', 'i', 'phaseshift', 'rx', 'ry', 'rz', 's', 'si', 'swap', 't', 'ti', 'v', 'vi', 'x', 'y', 'z', 'ecr', 'start_verbatim_box', 'end_verbatim_box']\n"
     ]
    }
   ],
   "source": [
    "# print all (the usual suspects) available gates currently available within SDK\n",
    "gate_set = [attr for attr in dir(Gate) if attr[0] in string.ascii_uppercase]\n",
    "print('Gate set supported by SDK:\\n', gate_set)\n",
    "print('\\n') \n",
    "\n",
    "# the Rigetti device\n",
    "device = AwsDevice(\"arn:aws:braket:us-west-1::device/qpu/rigetti/Aspen-M-3\")\n",
    "supported_gates = device.properties.action['braket.ir.jaqcd.program'].supportedOperations\n",
    "# print the supported gate set\n",
    "print('Gate set supported by the Rigetti device:\\n', supported_gates)\n",
    "print('\\n') \n",
    "\n",
    "# the IonQ device\n",
    "device = AwsDevice(\"arn:aws:braket:::device/qpu/ionq/ionQdevice\")\n",
    "supported_gates = device.properties.action['braket.ir.jaqcd.program'].supportedOperations\n",
    "# print the supported gate set\n",
    "print('Gate set supported by the IonQ device:\\n', supported_gates)\n",
    "print('\\n') \n",
    "\n",
    "# the Oxford Quantum Circuits (OQC) device\n",
    "device = AwsDevice(\"arn:aws:braket:eu-west-2::device/qpu/oqc/Lucy\")\n",
    "supported_gates = device.properties.action['braket.ir.jaqcd.program'].supportedOperations\n",
    "# print the supported gate set\n",
    "print('Gate set supported by the OQC device:\\n', supported_gates)"
   ]
  },
  {
   "cell_type": "markdown",
   "id": "08d1399a",
   "metadata": {},
   "source": [
    "## Setting up a Bell State ##"
   ]
  },
  {
   "cell_type": "code",
   "execution_count": 4,
   "id": "75322210",
   "metadata": {},
   "outputs": [
    {
     "name": "stdout",
     "output_type": "stream",
     "text": [
      "T  : |0|1|\n",
      "          \n",
      "q0 : -H-C-\n",
      "        | \n",
      "q1 : ---X-\n",
      "\n",
      "T  : |0|1|\n"
     ]
    }
   ],
   "source": [
    "# define circuit\n",
    "bell = Circuit().h(0).cnot(0, 1)\n",
    "# print circuit\n",
    "print(bell)"
   ]
  },
  {
   "cell_type": "markdown",
   "id": "041f5762",
   "metadata": {},
   "source": [
    "### Running on Local Simulator ###"
   ]
  },
  {
   "cell_type": "code",
   "execution_count": 5,
   "id": "030a6eb8",
   "metadata": {},
   "outputs": [],
   "source": [
    "# set up device: Local Simulator\n",
    "device = LocalSimulator()"
   ]
  },
  {
   "cell_type": "code",
   "execution_count": 6,
   "id": "68638ac0",
   "metadata": {},
   "outputs": [
    {
     "name": "stdout",
     "output_type": "stream",
     "text": [
      "Counter({'11': 525, '00': 475})\n"
     ]
    }
   ],
   "source": [
    "# run circuit (execute single TASK)\n",
    "result = device.run(bell, shots=1000).result()\n",
    "# get measurement shots\n",
    "counts = result.measurement_counts\n",
    "# print counts\n",
    "print(counts)"
   ]
  },
  {
   "cell_type": "code",
   "execution_count": 7,
   "id": "182b3c6d",
   "metadata": {},
   "outputs": [
    {
     "data": {
      "text/plain": [
       "Text(0, 0.5, 'counts')"
      ]
     },
     "execution_count": 7,
     "metadata": {},
     "output_type": "execute_result"
    },
    {
     "data": {
      "image/png": "[encoded data removed]",
      "text/plain": [
       "<Figure size 432x288 with 1 Axes>"
      ]
     },
     "metadata": {
      "needs_background": "light"
     },
     "output_type": "display_data"
    }
   ],
   "source": [
    "# plot using Counter\n",
    "plt.bar(counts.keys(), counts.values())\n",
    "plt.xlabel('bitstrings')\n",
    "plt.ylabel('counts')"
   ]
  },
  {
   "cell_type": "markdown",
   "id": "4050b007",
   "metadata": {},
   "source": [
    "### Setting up the Device ###\n",
    "At the time of this example test, Rigetti Aspen-3 was available, IonQ was available but Oxford Quantum Circuits had a wait time of 2 days."
   ]
  },
  {
   "cell_type": "code",
   "execution_count": 8,
   "id": "31aff6dc",
   "metadata": {},
   "outputs": [
    {
     "name": "stdout",
     "output_type": "stream",
     "text": [
      "Status of task: CREATED\n"
     ]
    }
   ],
   "source": [
    "# set up device\n",
    "rigetti = AwsDevice(\"arn:aws:braket:us-west-1::device/qpu/rigetti/Aspen-M-3\")\n",
    "\n",
    "# create a clean circuit with no result type attached.(This is because some result types are only supported when shots=0)\n",
    "bell = Circuit().h(0).cnot(0, 1)  \n",
    "\n",
    "# add the Z \\otimes Z expectation value\n",
    "bell.expectation(Observable.Z() @ Observable.Z(), target=[0,1])\n",
    "\n",
    "# run circuit \n",
    "rigetti_task = rigetti.run(bell, shots=1000)\n",
    "\n",
    "# get id and status of submitted task\n",
    "rigetti_task_id = rigetti_task.id\n",
    "rigetti_status = rigetti_task.state()\n",
    "# print('ID of task:', rigetti_task_id)\n",
    "print('Status of task:', rigetti_status)"
   ]
  },
  {
   "cell_type": "code",
   "execution_count": 9,
   "id": "acc9af1c",
   "metadata": {},
   "outputs": [
    {
     "name": "stdout",
     "output_type": "stream",
     "text": [
      "Status of (reconstructed) task: COMPLETED\n"
     ]
    }
   ],
   "source": [
    "# print status\n",
    "status = rigetti_task.state()\n",
    "print('Status of (reconstructed) task:', status)"
   ]
  },
  {
   "cell_type": "markdown",
   "id": "6340654a",
   "metadata": {},
   "source": [
    "Setting up the same circuit on Trapped IonQ QPU"
   ]
  },
  {
   "cell_type": "code",
   "execution_count": 10,
   "id": "2e88d0c7",
   "metadata": {},
   "outputs": [
    {
     "name": "stdout",
     "output_type": "stream",
     "text": [
      "Status of task: CREATED\n"
     ]
    }
   ],
   "source": [
    "# set up device\n",
    "ionq = AwsDevice(\"arn:aws:braket:::device/qpu/ionq/ionQdevice\")\n",
    "\n",
    "# run circuit\n",
    "ionq_task = ionq.run(bell, shots=1000)\n",
    "\n",
    "# get id and status of submitted task\n",
    "ionq_task_id = ionq_task.id\n",
    "ionq_status = ionq_task.state()\n",
    "# print('ID of task:', ionq_task_id)\n",
    "print('Status of task:', ionq_status)"
   ]
  },
  {
   "cell_type": "code",
   "execution_count": 11,
   "id": "f60d808e",
   "metadata": {},
   "outputs": [
    {
     "name": "stdout",
     "output_type": "stream",
     "text": [
      "Status of (reconstructed) task: QUEUED\n"
     ]
    }
   ],
   "source": [
    "# print status\n",
    "status = ionq_task.state()\n",
    "print('Status of (reconstructed) task:', status)"
   ]
  },
  {
   "cell_type": "markdown",
   "id": "0b12e23f",
   "metadata": {},
   "source": [
    "### Loading the Tasks to analyze the results from the actual processing ###\n",
    "\n",
    "Rigetti:"
   ]
  },
  {
   "cell_type": "code",
   "execution_count": 12,
   "id": "a49ad3eb",
   "metadata": {},
   "outputs": [
    {
     "name": "stdout",
     "output_type": "stream",
     "text": [
      "Status of (reconstructed) task: COMPLETED\n",
      "\n",
      "\n",
      "1000 shots taken on machine arn:aws:braket:us-west-1::device/qpu/rigetti/Aspen-M-3.\n",
      "\n",
      "The compiled circuit is:\n",
      " DECLARE ro BIT[2]\n",
      "PRAGMA INITIAL_REWIRING \"PARTIAL\"\n",
      "RESET\n",
      "RZ(pi) 104\n",
      "RZ(pi) 105\n",
      "RX(pi/2) 105\n",
      "RZ(pi/2) 105\n",
      "RX(-pi/2) 105\n",
      "RZ(pi/2) 105\n",
      "XY(pi) 105 104\n",
      "RX(pi/2) 105\n",
      "RZ(-pi/2) 105\n",
      "RX(-pi/2) 105\n",
      "XY(pi) 105 104\n",
      "RX(-pi/2) 104\n",
      "MEASURE 105 ro[0]\n",
      "MEASURE 104 ro[1]\n",
      "\n",
      "Measurement counts: Counter({'00': 501, '11': 420, '01': 51, '10': 28})\n"
     ]
    },
    {
     "data": {
      "image/png": "[encoded data removed]",
      "text/plain": [
       "<Figure size 432x288 with 1 Axes>"
      ]
     },
     "metadata": {
      "needs_background": "light"
     },
     "output_type": "display_data"
    }
   ],
   "source": [
    "# recover task\n",
    "task_load = AwsQuantumTask(arn=rigetti_task_id)\n",
    "\n",
    "# print status\n",
    "status = task_load.state()\n",
    "print('Status of (reconstructed) task:', status)\n",
    "print('\\n')\n",
    "# wait for job to complete\n",
    "# terminal_states = ['COMPLETED', 'FAILED', 'CANCELLED']\n",
    "if status == 'COMPLETED':\n",
    "    # get results\n",
    "    rigetti_results = task_load.result()\n",
    "    # print(rigetti_results)\n",
    "    \n",
    "    # get all metadata of submitted task\n",
    "    metadata = task_load.metadata()\n",
    "    # example for metadata\n",
    "    shots = metadata['shots']\n",
    "    machine = metadata['deviceArn']\n",
    "    # print example metadata\n",
    "    print(\"{} shots taken on machine {}.\\n\".format(shots, machine))\n",
    "    \n",
    "    # get the compiled circuit\n",
    "    print(\"The compiled circuit is:\\n\", rigetti_results.additional_metadata.rigettiMetadata.compiledProgram)\n",
    "    \n",
    "    # get measurement counts\n",
    "    rigetti_counts = rigetti_results.measurement_counts\n",
    "    print('Measurement counts:', rigetti_counts)\n",
    "\n",
    "    # plot results: see effects of noise\n",
    "    plt.bar(rigetti_counts.keys(), rigetti_counts.values())\n",
    "    plt.xlabel('bitstrings')\n",
    "    plt.ylabel('counts')\n",
    "    plt.tight_layout()\n",
    "    plt.savefig('rigetti.png', dpi=700)\n",
    "    \n",
    "elif status in ['FAILED', 'CANCELLED']:\n",
    "    # print terminal message \n",
    "    print('Your task is in terminal status, but has not completed.')\n",
    "\n",
    "else:\n",
    "    # print current status\n",
    "    print('Sorry, your task is still being processed and has not been finalized yet.')\n"
   ]
  },
  {
   "cell_type": "markdown",
   "id": "7f72f7d2",
   "metadata": {},
   "source": [
    "Trapped IonQ:"
   ]
  },
  {
   "cell_type": "code",
   "execution_count": 13,
   "id": "9843dd37",
   "metadata": {},
   "outputs": [
    {
     "name": "stdout",
     "output_type": "stream",
     "text": [
      "Status of (reconstructed) task: QUEUED\n",
      "Sorry, your task is still being processed and has not been finalized yet.\n"
     ]
    }
   ],
   "source": [
    "# recover task\n",
    "task_load = AwsQuantumTask(arn=ionq_task_id)\n",
    "\n",
    "# print status\n",
    "status = task_load.state()\n",
    "print('Status of (reconstructed) task:', status)\n",
    "\n",
    "# wait for job to complete\n",
    "# terminal_states = ['COMPLETED', 'FAILED', 'CANCELLED']\n",
    "if status == 'COMPLETED':\n",
    "    # get results\n",
    "    results = task_load.result()\n",
    "    # print(rigetti_results)\n",
    "    \n",
    "    # get all metadata of submitted task\n",
    "    metadata = task_load.metadata()\n",
    "    # example for metadata\n",
    "    shots = metadata['shots']\n",
    "    machine = metadata['deviceArn']\n",
    "    # print example metadata\n",
    "    print(\"{} shots taken on machine {}.\".format(shots, machine))\n",
    "    \n",
    "    # get measurement counts\n",
    "    counts = results.measurement_counts\n",
    "    print('Measurement counts:', counts)\n",
    "\n",
    "    # plot results: see effects of noise\n",
    "    plt.bar(counts.keys(), counts.values())\n",
    "    plt.xlabel('bitstrings')\n",
    "    plt.ylabel('counts')\n",
    "    plt.tight_layout()\n",
    "    plt.savefig('bell_ionq.png', dpi=700)\n",
    "    \n",
    "elif status in ['FAILED', 'CANCELLED']:\n",
    "    # print terminal message \n",
    "    print('Your task is in terminal status, but has not completed.')\n",
    "\n",
    "else:\n",
    "    # print current status\n",
    "    print('Sorry, your task is still being processed and has not been finalized yet.')"
   ]
  },
  {
   "cell_type": "code",
   "execution_count": 14,
   "id": "b15ecfe8",
   "metadata": {},
   "outputs": [
    {
     "name": "stdout",
     "output_type": "stream",
     "text": [
      "Task Summary\n",
      "{'arn:aws:braket:us-west-1::device/qpu/rigetti/Aspen-M-3': {'shots': 1000, 'tasks': {'COMPLETED': 1}}, 'arn:aws:braket:::device/qpu/ionq/ionQdevice': {'shots': 1000, 'tasks': {'QUEUED': 1}}}\n",
      "Note: Charges shown are estimates based on your Amazon Braket simulator and quantum processing unit (QPU) task usage. Estimated charges shown may differ from your actual charges. Estimated charges do not factor in any discounts or credits, and you may experience additional charges based on your use of other services such as Amazon Elastic Compute Cloud (Amazon EC2).\n",
      "Estimated cost to run this example: 10.95 USD\n"
     ]
    }
   ],
   "source": [
    "print(\"Task Summary\")\n",
    "print(t.quantum_tasks_statistics())\n",
    "print('Note: Charges shown are estimates based on your Amazon Braket simulator and quantum processing unit (QPU) task usage. Estimated charges shown may differ from your actual charges. Estimated charges do not factor in any discounts or credits, and you may experience additional charges based on your use of other services such as Amazon Elastic Compute Cloud (Amazon EC2).')\n",
    "print(f\"Estimated cost to run this example: {t.qpu_tasks_cost() + t.simulator_tasks_cost():.2f} USD\")"
   ]
  }
 ],
 "metadata": {
  "kernelspec": {
   "display_name": "Python 3 (ipykernel)",
   "language": "python",
   "name": "python3"
  },
  "language_info": {
   "codemirror_mode": {
    "name": "ipython",
    "version": 3
   },
   "file_extension": ".py",
   "mimetype": "text/x-python",
   "name": "python",
   "nbconvert_exporter": "python",
   "pygments_lexer": "ipython3",
   "version": "3.8.13"
  }
 },
 "nbformat": 4,
 "nbformat_minor": 5
}
