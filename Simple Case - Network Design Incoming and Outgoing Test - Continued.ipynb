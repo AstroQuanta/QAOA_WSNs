{
 "cells": [
  {
   "cell_type": "markdown",
   "id": "e5993f87",
   "metadata": {},
   "source": [
    "# Reason for this test #\n",
    "\n",
    "### Documentation of an idea ###\n",
    "\n",
    "The point of adding the last fcost constraint expression, which is trivial anyways because it comes from <b>1</b> - <b>2</b> - <b>3</b>, is that these contraints then can be changed easily when changing the destination node. Just change the RHS of the constraint equations, that is subtract 1 or 0 accordingly."
   ]
  },
  {
   "cell_type": "code",
   "execution_count": 1,
   "id": "db8a5085",
   "metadata": {},
   "outputs": [],
   "source": [
    "from pyqubo import Array,Constraint,Placeholder"
   ]
  },
  {
   "cell_type": "code",
   "execution_count": 2,
   "id": "e497421f",
   "metadata": {},
   "outputs": [],
   "source": [
    "edges = [(1,2),(1,3),(2,3),(2,4),(3,4), (4,1)]\n",
    "weights = [5,8,2,7,4,3] \n",
    "x = Array.create(name = 'x', shape =len(edges), vartype = 'BINARY') "
   ]
  },
  {
   "cell_type": "code",
   "execution_count": 3,
   "id": "00265f70",
   "metadata": {},
   "outputs": [
    {
     "name": "stdout",
     "output_type": "stream",
     "text": [
      "(6,)\n",
      "Array([Binary('x[0]'), Binary('x[1]'), Binary('x[2]'), Binary('x[3]'), Binary('x[4]'), Binary('x[5]')])\n",
      "((4.000000 * Binary('x[0]')) + Binary('x[1]'))\n"
     ]
    }
   ],
   "source": [
    "print(x.shape)\n",
    "print(x)\n",
    "y = (4*x[0]+x[1])\n",
    "print(y)"
   ]
  },
  {
   "cell_type": "code",
   "execution_count": 4,
   "id": "a534edee",
   "metadata": {},
   "outputs": [],
   "source": [
    "# model = ((x[0] + x[1] - 1)).compile()\n",
    "# print(model.to_qubo())"
   ]
  },
  {
   "cell_type": "code",
   "execution_count": 5,
   "id": "82e091bc",
   "metadata": {},
   "outputs": [],
   "source": [
    "i = 0\n",
    "fcost = 0\n",
    "for i in range(len(edges)):\n",
    "    fcost += (weights[i]*x[i]) ## Put the expression for constraints in\n",
    "\n",
    "p = 27 # chosen arbitrarily. It represents the penalty for the constraints. Also another parameter that can be varied\n",
    "\n",
    "## Constraints ##\n",
    "fcost += p*((x[0] + x[1] - x[5] - 1)**2) \n",
    "fcost += p*((x[0] - x[2] - x[3] - 0)**2)\n",
    "fcost += p*((x[1] + x[2] - x[4] - 0)**2)\n",
    "fcost += p*((x[3] + x[4] - x[5] - 1)**2)"
   ]
  },
  {
   "cell_type": "code",
   "execution_count": 6,
   "id": "13e13dac",
   "metadata": {},
   "outputs": [],
   "source": [
    "model = fcost.compile()"
   ]
  },
  {
   "cell_type": "code",
   "execution_count": 7,
   "id": "68b3fc27",
   "metadata": {
    "scrolled": true
   },
   "outputs": [
    {
     "name": "stdout",
     "output_type": "stream",
     "text": [
      "({('x[5]', 'x[4]'): -54.0, ('x[2]', 'x[2]'): 56.0, ('x[4]', 'x[2]'): -54.0, ('x[5]', 'x[0]'): -54.0, ('x[1]', 'x[0]'): 54.0, ('x[5]', 'x[1]'): -54.0, ('x[3]', 'x[4]'): 54.0, ('x[1]', 'x[2]'): 54.0, ('x[3]', 'x[0]'): -54.0, ('x[2]', 'x[0]'): -54.0, ('x[5]', 'x[3]'): -54.0, ('x[3]', 'x[3]'): 7.0, ('x[4]', 'x[4]'): 4.0, ('x[3]', 'x[2]'): 54.0, ('x[4]', 'x[1]'): -54.0, ('x[5]', 'x[5]'): 165.0, ('x[0]', 'x[0]'): 5.0, ('x[1]', 'x[1]'): 8.0}, 54.0)\n"
     ]
    }
   ],
   "source": [
    "print(model.to_qubo())"
   ]
  },
  {
   "cell_type": "code",
   "execution_count": 8,
   "id": "e38e36eb",
   "metadata": {
    "scrolled": false
   },
   "outputs": [
    {
     "name": "stdout",
     "output_type": "stream",
     "text": [
      "Linear Coefficients {'x[0]': -24.5, 'x[1]': 4.0, 'x[2]': 28.0, 'x[3]': 3.5, 'x[4]': -25.0, 'x[5]': 28.5}\n",
      "Quadratic Coefficients {('x[0]', 'x[1]'): 13.5, ('x[2]', 'x[3]'): 13.5, ('x[0]', 'x[2]'): -13.5, ('x[1]', 'x[5]'): -13.5, ('x[3]', 'x[4]'): 13.5, ('x[0]', 'x[3]'): -13.5, ('x[0]', 'x[5]'): -13.5, ('x[1]', 'x[2]'): 13.5, ('x[1]', 'x[4]'): -13.5, ('x[2]', 'x[4]'): -13.5, ('x[3]', 'x[5]'): -13.5, ('x[4]', 'x[5]'): -13.5}\n"
     ]
    }
   ],
   "source": [
    "linear, quadratic, offset = model.to_ising()\n",
    "print(\"Linear Coefficients\", linear)\n",
    "print(\"Quadratic Coefficients\", quadratic)\n",
    "\n",
    "## The objective function is then made from these linear and quadratic terms ##\n",
    "## The objective function represents the Problem Hamiltonian Hp ##"
   ]
  },
  {
   "cell_type": "markdown",
   "id": "a2964be0",
   "metadata": {},
   "source": [
    "### So making these changes to the fcost constraint expressions did not have any change to the QUBO model generated, which checks out ###"
   ]
  },
  {
   "attachments": {
    "image-2.png": {
     "image/png": "[encoded data removed]"
    }
   },
   "cell_type": "markdown",
   "id": "142a794c",
   "metadata": {},
   "source": [
    "## Modified Network ##\n",
    "\n",
    "### Node 2 is the destination node ###\n",
    "\n",
    "![image-2.png](attachment:image-2.png)"
   ]
  },
  {
   "cell_type": "code",
   "execution_count": 9,
   "id": "5a90a88d",
   "metadata": {},
   "outputs": [],
   "source": [
    "# general imports\n",
    "import numpy as np\n",
    "import matplotlib.pyplot as plt\n",
    "# magic word for producing visualizations in notebook\n",
    "%matplotlib inline\n",
    "import string\n",
    "import time"
   ]
  },
  {
   "cell_type": "code",
   "execution_count": 10,
   "id": "3739b07c",
   "metadata": {},
   "outputs": [],
   "source": [
    "# AWS imports: Import Braket SDK modules\n",
    "from braket.circuits import Circuit, Gate, Observable\n",
    "from braket.devices import LocalSimulator\n",
    "from braket.aws import AwsDevice, AwsQuantumTask"
   ]
  },
  {
   "cell_type": "code",
   "execution_count": 11,
   "id": "06070c44",
   "metadata": {},
   "outputs": [],
   "source": [
    "def create_circuit(beta, gamma):\n",
    "    ## initializing the initial qubit state with H gates ##\n",
    "    circuit = Circuit()\n",
    "    n_qubits = len(edges)\n",
    "\n",
    "    for qubit in range(n_qubits):\n",
    "        circuit.h(qubit)\n",
    "    \n",
    "    ## Implementing the problem Hamiltonian ##\n",
    "    for qubit in range(n_qubits):\n",
    "        linear_coeff = linear.get('x['+str(qubit)+']')\n",
    "        circuit = circuit.rz(qubit, -1*linear_coeff)\n",
    "\n",
    "    #Algorithmic method to add the ZZ gates - CHECK TO SEE IF IT AFFECTS THE RESULTS(it should'nt because they commute)\n",
    "    for i in range(len(quadratic)):\n",
    "        qubit_1 = int(list(quadratic.keys())[i][0][2])\n",
    "        qubit_2 = int(list(quadratic.keys())[i][1][2])\n",
    "\n",
    "        quadratic_coeff = quadratic.get(('x['+str(qubit_1)+']', 'x['+str(qubit_2)+']'))\n",
    "\n",
    "        circuit.zz(qubit_1, qubit_2, quadratic_coeff*gamma)\n",
    "    \n",
    "    ## Implementing the Mixer Hamiltonian ##\n",
    "    for qubit in range(n_qubits):\n",
    "        circuit.rx(qubit, 2*beta) # theta=2*beta because rx rotates the qubit about X by theta/2 angle\n",
    "        \n",
    "    return circuit"
   ]
  },
  {
   "cell_type": "markdown",
   "id": "c387e174",
   "metadata": {},
   "source": [
    "* <b>Remember that there are 3 parameters that can be varied - beta, gamma and penalty p </b>"
   ]
  },
  {
   "cell_type": "code",
   "execution_count": 12,
   "id": "d5dce4d3",
   "metadata": {},
   "outputs": [],
   "source": [
    "## Expectation value of the Hamiltonian is basically the expected cost value which we can get from an average of the\n",
    "## cost values over all states that have occurred ##\n",
    "def compute_expectation(counts, shots):\n",
    "    \n",
    "    expectation = 0\n",
    "    sum = 0\n",
    "    states = list(counts.keys())\n",
    "    for i in range(len(states)):\n",
    "        state = states[i] # string variable of the current qubit states\n",
    "        state_cost = 0\n",
    "        for j in range(len(state)): # Convention of the states is that the left-most qubit is the first qubit q0\n",
    "            state_cost = state_cost + int(state[j])*weights[j]\n",
    "        \n",
    "        expectation = expectation + state_cost*counts.get(state)\n",
    "        \n",
    "    expectation /= 1000\n",
    "    # print(expectation)\n",
    "    return expectation"
   ]
  },
  {
   "cell_type": "code",
   "execution_count": 13,
   "id": "ff39f9f7",
   "metadata": {},
   "outputs": [],
   "source": [
    "## Now we measure the circuit ##\n",
    "def expectation_execute_circuit(param):\n",
    "    ## Set up the device to run the circuit\n",
    "    device = LocalSimulator()\n",
    "    \n",
    "    ## QAOA parameters to be optimized such that the eigenvalue Cost(β, γ) can be minimized ##\n",
    "    beta = param[0]\n",
    "    gamma = param[1]\n",
    "    \n",
    "    circuit = create_circuit(beta, gamma)\n",
    "    \n",
    "    shots = 5000\n",
    "    result = device.run(circuit, shots).result()\n",
    "    counts = result.measurement_counts\n",
    "    \n",
    "    return compute_expectation(counts, shots)    "
   ]
  },
  {
   "cell_type": "code",
   "execution_count": 18,
   "id": "6f9ee2fd",
   "metadata": {
    "scrolled": true
   },
   "outputs": [
    {
     "name": "stdout",
     "output_type": "stream",
     "text": [
      "     fun: 60.318\n",
      "   maxcv: 0.0\n",
      " message: 'Optimization terminated successfully.'\n",
      "    nfev: 30\n",
      "  status: 1\n",
      " success: True\n",
      "       x: array([0.99489173, 0.92842695])\n"
     ]
    }
   ],
   "source": [
    "## Classical Optimizer ##\n",
    "\n",
    "from scipy.optimize import minimize\n",
    "\n",
    "res = minimize(expectation_execute_circuit,\n",
    "               [1.0, 1.0],\n",
    "               method='COBYLA')\n",
    "print(res)"
   ]
  },
  {
   "cell_type": "markdown",
   "id": "196fbbc3",
   "metadata": {},
   "source": [
    "## Analyzing the Results"
   ]
  },
  {
   "cell_type": "code",
   "execution_count": 19,
   "id": "bbd2768c",
   "metadata": {},
   "outputs": [
    {
     "name": "stdout",
     "output_type": "stream",
     "text": [
      "Counter({'111000': 48, '101010': 42, '001001': 40, '100100': 36, '110101': 36, '001110': 35, '100010': 35, '010111': 34, '110111': 32, '010010': 32, '101000': 31, '001000': 31, '111011': 27, '101111': 24, '001111': 23, '101100': 22, '010000': 20, '110110': 19, '001010': 19, '011010': 19, '000000': 18, '100110': 18, '100001': 18, '011101': 17, '000100': 17, '101011': 16, '110001': 16, '010101': 15, '011011': 14, '100111': 13, '111110': 13, '101101': 13, '111001': 13, '000111': 12, '001101': 12, '010100': 11, '101001': 11, '000110': 10, '010110': 10, '000010': 10, '001100': 9, '111101': 8, '001011': 8, '000101': 7, '110011': 7, '100011': 7, '010011': 7, '010001': 6, '111111': 6, '011100': 6, '011001': 6, '110100': 6, '110000': 5, '000011': 5, '100101': 4, '101110': 4, '100000': 4, '011111': 4, '110010': 3, '011000': 3, '111010': 2, '111100': 1})\n"
     ]
    }
   ],
   "source": [
    "beta = res.get('x')[0]\n",
    "gamma = res.get('x')[1]\n",
    "circuit = create_circuit(0.28517317, -5.05969577)\n",
    "\n",
    "device = LocalSimulator()\n",
    "result = device.run(circuit, shots = 1000).result()\n",
    "counts = result.measurement_counts\n",
    "\n",
    "print(counts)\n",
    "\n",
    "# plot using Counter\n",
    "#plt.bar(counts.keys(), counts.values())\n",
    "#plt.xlabel('bitstrings')\n",
    "#plt.ylabel('counts')"
   ]
  },
  {
   "cell_type": "code",
   "execution_count": 16,
   "id": "15ffac24",
   "metadata": {},
   "outputs": [
    {
     "name": "stdout",
     "output_type": "stream",
     "text": [
      "[5, 8, 2, 7, 4, 3]\n"
     ]
    }
   ],
   "source": [
    "print(weights)"
   ]
  },
  {
   "cell_type": "markdown",
   "id": "10f5b5c6",
   "metadata": {},
   "source": [
    "### So adding an outgoing path from Node 4 does change quite a lot, the probabilities are a lot less concrete than without the last path ###\n",
    "Increasing the number of shots may help in the counts\n",
    "\n",
    "Now lets try making Node 2 as the destination node"
   ]
  },
  {
   "cell_type": "code",
   "execution_count": 17,
   "id": "948799d6",
   "metadata": {},
   "outputs": [],
   "source": [
    "i = 0\n",
    "fcost = 0\n",
    "for i in range(len(edges)):\n",
    "    fcost += (weights[i]*x[i]) ## Put the expression for constraints in\n",
    "\n",
    "p = 27 # chosen arbitrarily. It represents the penalty for the constraints. Also another parameter that can be varied\n",
    "\n",
    "## Modified Constraints for Node 2 as destination ##\n",
    "fcost += p*((x[0] + x[1] - x[5] - 1)**2) \n",
    "fcost += p*((x[0] - x[2] - x[3] - 0)**2)\n",
    "fcost += p*((x[1] + x[2] - x[4] - 1)**2)\n",
    "fcost += p*((x[3] + x[4] - x[5] - 0)**2)"
   ]
  },
  {
   "cell_type": "markdown",
   "id": "1d481130",
   "metadata": {},
   "source": [
    "### Maybe an outgoing branch from the destination node screws up the calculations. Try removing an outgoing branch from 2 in the above example.\n",
    "\n",
    "That would make it somewhat difficult to dynamically change constraints. So try making the cost of an outgoing branch from a destination node go to inifinity(make it very large)."
   ]
  },
  {
   "cell_type": "markdown",
   "id": "dec9066d",
   "metadata": {},
   "source": [
    "<b>Changing Costs did not work</b>\n",
    "\n",
    "Maybe try avoiding cycles in the network - which also didn't work"
   ]
  }
 ],
 "metadata": {
  "kernelspec": {
   "display_name": "Python 3 (ipykernel)",
   "language": "python",
   "name": "python3"
  },
  "language_info": {
   "codemirror_mode": {
    "name": "ipython",
    "version": 3
   },
   "file_extension": ".py",
   "mimetype": "text/x-python",
   "name": "python",
   "nbconvert_exporter": "python",
   "pygments_lexer": "ipython3",
   "version": "3.8.13"
  }
 },
 "nbformat": 4,
 "nbformat_minor": 5
}
