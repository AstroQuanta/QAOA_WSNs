{
 "cells": [
  {
   "cell_type": "markdown",
   "id": "7cce3c79",
   "metadata": {},
   "source": [
    "# Reason for this test #\n",
    "\n",
    "### Documentation of an idea ###\n",
    "\n",
    "The point of adding the last fcost constraint expression, which is trivial anyways because it comes from <b>1</b> - <b>2</b> - <b>3</b>, is that these contraints then can be changed easily when changing the destination node. Just change the RHS of the constraint equations, that is subtract 1 or 0 accordingly."
   ]
  },
  {
   "cell_type": "code",
   "execution_count": 40,
   "id": "db8a5085",
   "metadata": {},
   "outputs": [],
   "source": [
    "from pyqubo import Array,Constraint,Placeholder"
   ]
  },
  {
   "cell_type": "code",
   "execution_count": 41,
   "id": "e497421f",
   "metadata": {},
   "outputs": [],
   "source": [
    "edges = [(1,2),(1,3),(2,3),(2,4),(3,4)]\n",
    "weights = [5,8,2,7,4]\n",
    "nodes = 4\n",
    "x = Array.create(name = 'x', shape =len(edges), vartype = 'BINARY') "
   ]
  },
  {
   "cell_type": "markdown",
   "id": "e69ce690",
   "metadata": {},
   "source": [
    "Add the Linear Terms to the constraints"
   ]
  },
  {
   "cell_type": "code",
   "execution_count": 42,
   "id": "82e091bc",
   "metadata": {},
   "outputs": [],
   "source": [
    "i = 0\n",
    "fcost = 0\n",
    "for i in range(len(edges)):\n",
    "    fcost += (weights[i]*x[i]) ## Put the expression for constraints in"
   ]
  },
  {
   "cell_type": "markdown",
   "id": "aad94867",
   "metadata": {},
   "source": [
    "Add the Quadratic Terms to the constraints"
   ]
  },
  {
   "cell_type": "code",
   "execution_count": 43,
   "id": "f6b22911",
   "metadata": {},
   "outputs": [],
   "source": [
    "# Try to algorithmically add the constraints in\n",
    "## Set the source and destination nodes ##\n",
    "source = 1\n",
    "destination = 2\n",
    "p = 27\n",
    "\n",
    "node=1\n",
    "while(node<=nodes):\n",
    "    sum = 0\n",
    "    for j in range(len(edges)):\n",
    "        if edges[j][0] == node: ##Outgoing from the current node\n",
    "            sum += x[j]\n",
    "        elif edges[j][1] == node: ##Incoming into the current node\n",
    "            sum -= x[j]\n",
    "    \n",
    "    if node == source:\n",
    "        sum -= 1\n",
    "    elif node== destination:\n",
    "        sum += 1\n",
    "        \n",
    "    fcost += p*((sum)**2)\n",
    "        \n",
    "    # print(sum, \"For Node \"+str(node))\n",
    "    node+=1\n"
   ]
  },
  {
   "cell_type": "markdown",
   "id": "81a8ae85",
   "metadata": {},
   "source": [
    "Now Manually add in these constraints to fcost. The reason we're not doing it algorithmically is due to the nature of the QUBO model variables. For some reason only when each of the terms are added in one line does it show the correct results. Make sure to not add any brackets when hard-coding the expressions."
   ]
  },
  {
   "cell_type": "raw",
   "id": "7138c6a5",
   "metadata": {},
   "source": [
    "## Manually adding in the Constraints ##\n",
    "\n",
    "p = 27 # chosen arbitrarily. It represents the penalty for the constraints. Also another parameter that can be varied\n",
    "\n",
    "fcost += p*((x[0] + x[1] - 1)**2) \n",
    "fcost += p*((x[0] - x[2] - x[3]-0)**2)\n",
    "fcost += p*((x[1] + x[2] - x[4]-0)**2)\n",
    "fcost += p*((1-x[3]-x[4])**2)\n"
   ]
  },
  {
   "cell_type": "code",
   "execution_count": 44,
   "id": "e7ff065f",
   "metadata": {},
   "outputs": [
    {
     "name": "stdout",
     "output_type": "stream",
     "text": [
      "((27.000000 * (((-1.000000 * Binary('x[4]')) + 0.000000 + (-1.000000 * Binary('x[3]'))) * ((-1.000000 * Binary('x[4]')) + 0.000000 + (-1.000000 * Binary('x[3]'))))) + (27.000000 * ((Binary('x[4]') + (-1.000000 * Binary('x[2]')) + 0.000000 + (-1.000000 * Binary('x[1]'))) * (Binary('x[4]') + (-1.000000 * Binary('x[2]')) + 0.000000 + (-1.000000 * Binary('x[1]'))))) + (27.000000 * ((1.000000 + Binary('x[3]') + Binary('x[2]') + 0.000000 + (-1.000000 * Binary('x[0]'))) * (1.000000 + Binary('x[3]') + Binary('x[2]') + 0.000000 + (-1.000000 * Binary('x[0]'))))) + (27.000000 * ((-1.000000 + Binary('x[1]') + 0.000000 + Binary('x[0]')) * (-1.000000 + Binary('x[1]') + 0.000000 + Binary('x[0]')))) + (4.000000 * Binary('x[4]')) + (7.000000 * Binary('x[3]')) + (2.000000 * Binary('x[2]')) + (8.000000 * Binary('x[1]')) + 0.000000 + (5.000000 * Binary('x[0]')))\n"
     ]
    }
   ],
   "source": [
    "print(fcost)"
   ]
  },
  {
   "cell_type": "code",
   "execution_count": 45,
   "id": "13e13dac",
   "metadata": {},
   "outputs": [],
   "source": [
    "model = fcost.compile()"
   ]
  },
  {
   "cell_type": "code",
   "execution_count": 46,
   "id": "68b3fc27",
   "metadata": {
    "scrolled": true
   },
   "outputs": [
    {
     "name": "stdout",
     "output_type": "stream",
     "text": [
      "({('x[4]', 'x[1]'): -54.0, ('x[0]', 'x[0]'): -49.0, ('x[2]', 'x[2]'): 110.0, ('x[4]', 'x[2]'): -54.0, ('x[3]', 'x[2]'): 54.0, ('x[3]', 'x[3]'): 115.0, ('x[1]', 'x[0]'): 54.0, ('x[2]', 'x[1]'): 54.0, ('x[4]', 'x[3]'): 54.0, ('x[3]', 'x[0]'): -54.0, ('x[2]', 'x[0]'): -54.0, ('x[4]', 'x[4]'): 58.0, ('x[1]', 'x[1]'): 8.0}, 54.0)\n"
     ]
    }
   ],
   "source": [
    "print(model.to_qubo())"
   ]
  },
  {
   "cell_type": "code",
   "execution_count": 47,
   "id": "e38e36eb",
   "metadata": {
    "scrolled": true
   },
   "outputs": [
    {
     "name": "stdout",
     "output_type": "stream",
     "text": [
      "Linear Coefficients {'x[0]': -38.0, 'x[1]': 17.5, 'x[2]': 55.0, 'x[3]': 71.0, 'x[4]': 15.5}\n",
      "Quadratic Coefficients {('x[0]', 'x[1]'): 13.5, ('x[0]', 'x[2]'): -13.5, ('x[2]', 'x[3]'): 13.5, ('x[0]', 'x[3]'): -13.5, ('x[2]', 'x[4]'): -13.5, ('x[3]', 'x[4]'): 13.5, ('x[1]', 'x[2]'): 13.5, ('x[1]', 'x[4]'): -13.5}\n"
     ]
    }
   ],
   "source": [
    "linear, quadratic, offset = model.to_ising()\n",
    "print(\"Linear Coefficients\", linear)\n",
    "print(\"Quadratic Coefficients\", quadratic)\n",
    "\n",
    "## The objective function is then made from these linear and quadratic terms ##\n",
    "## The objective function represents the Problem Hamiltonian Hp ##"
   ]
  },
  {
   "cell_type": "markdown",
   "id": "1bf4a09a",
   "metadata": {},
   "source": [
    "### So making these changes to the fcost constraint expressions did not have any change to the QUBO model generated, which checks out ###"
   ]
  },
  {
   "attachments": {
    "image.png": {
     "image/png": "[encoded data removed]"
    }
   },
   "cell_type": "markdown",
   "id": "2dbf34e5",
   "metadata": {},
   "source": [
    "## Modified Network ##\n",
    "\n",
    "### Node 2 is the destination node ###\n",
    "\n",
    "![image.png](attachment:image.png)"
   ]
  },
  {
   "cell_type": "code",
   "execution_count": 48,
   "id": "5a90a88d",
   "metadata": {},
   "outputs": [],
   "source": [
    "# general imports\n",
    "import numpy as np\n",
    "import matplotlib.pyplot as plt\n",
    "# magic word for producing visualizations in notebook\n",
    "%matplotlib inline\n",
    "import string\n",
    "import time"
   ]
  },
  {
   "cell_type": "code",
   "execution_count": 49,
   "id": "3739b07c",
   "metadata": {},
   "outputs": [],
   "source": [
    "# AWS imports: Import Braket SDK modules\n",
    "from braket.circuits import Circuit, Gate, Observable\n",
    "from braket.devices import LocalSimulator\n",
    "from braket.aws import AwsDevice, AwsQuantumTask"
   ]
  },
  {
   "cell_type": "code",
   "execution_count": 50,
   "id": "06070c44",
   "metadata": {},
   "outputs": [],
   "source": [
    "def create_circuit(beta, gamma):\n",
    "    ## initializing the initial qubit state with H gates ##\n",
    "    circuit = Circuit()\n",
    "    n_qubits = len(edges)\n",
    "\n",
    "    for qubit in range(n_qubits):\n",
    "        circuit.h(qubit)\n",
    "    \n",
    "    ## Implementing the problem Hamiltonian ##\n",
    "    for qubit in range(n_qubits):\n",
    "        linear_coeff = linear.get('x['+str(qubit)+']')\n",
    "        circuit = circuit.rz(qubit, -1*linear_coeff)\n",
    "\n",
    "    #Algorithmic method to add the ZZ gates - CHECK TO SEE IF IT AFFECTS THE RESULTS(it should'nt because they commute)\n",
    "    for i in range(len(quadratic)):\n",
    "        qubit_1 = int(list(quadratic.keys())[i][0][2])\n",
    "        qubit_2 = int(list(quadratic.keys())[i][1][2])\n",
    "\n",
    "        quadratic_coeff = quadratic.get(('x['+str(qubit_1)+']', 'x['+str(qubit_2)+']'))\n",
    "\n",
    "        circuit.zz(qubit_1, qubit_2, quadratic_coeff*gamma)\n",
    "    \n",
    "    ## Implementing the Mixer Hamiltonian ##\n",
    "    for qubit in range(n_qubits):\n",
    "        circuit.rx(qubit, 2*beta) # theta=2*beta because rx rotates the qubit about X by theta/2 angle\n",
    "        \n",
    "    return circuit"
   ]
  },
  {
   "cell_type": "markdown",
   "id": "c387e174",
   "metadata": {},
   "source": [
    "* <b>Remember that there are 3 parameters that can be varied - beta, gamma and penalty p </b>"
   ]
  },
  {
   "cell_type": "code",
   "execution_count": 51,
   "id": "d5dce4d3",
   "metadata": {},
   "outputs": [],
   "source": [
    "## Expectation value of the Hamiltonian is basically the expected cost value which we can get from an average of the\n",
    "## cost values over all states that have occurred ##\n",
    "def compute_expectation(counts, shots):\n",
    "    \n",
    "    expectation = 0\n",
    "    sum = 0\n",
    "    states = list(counts.keys())\n",
    "    for i in range(len(states)):\n",
    "        state = states[i] # string variable of the current qubit states\n",
    "        state_cost = 0\n",
    "        for j in range(len(state)): # Convention of the states is that the left-most qubit is the first qubit q0\n",
    "            state_cost = state_cost + int(state[j])*weights[j]\n",
    "        \n",
    "        expectation = expectation + state_cost*counts.get(state)\n",
    "        \n",
    "    expectation /= 1000\n",
    "    # print(expectation)\n",
    "    return expectation"
   ]
  },
  {
   "cell_type": "code",
   "execution_count": 52,
   "id": "ff39f9f7",
   "metadata": {},
   "outputs": [],
   "source": [
    "## Now we measure the circuit ##\n",
    "def expectation_execute_circuit(param):\n",
    "    ## Set up the device to run the circuit\n",
    "    device = LocalSimulator()\n",
    "    \n",
    "    ## QAOA parameters to be optimized such that the eigenvalue Cost(β, γ) can be minimized ##\n",
    "    beta = param[0]\n",
    "    gamma = param[1]\n",
    "    \n",
    "    circuit = create_circuit(beta, gamma)\n",
    "    \n",
    "    shots = 1000\n",
    "    result = device.run(circuit, shots).result()\n",
    "    counts = result.measurement_counts\n",
    "    \n",
    "    return compute_expectation(counts, shots)    "
   ]
  },
  {
   "cell_type": "code",
   "execution_count": 53,
   "id": "6f9ee2fd",
   "metadata": {
    "scrolled": true
   },
   "outputs": [
    {
     "name": "stdout",
     "output_type": "stream",
     "text": [
      "     fun: 11.502\n",
      "   maxcv: 0.0\n",
      " message: 'Optimization terminated successfully.'\n",
      "    nfev: 32\n",
      "  status: 1\n",
      " success: True\n",
      "       x: array([0.44564705, 0.47458757])\n"
     ]
    }
   ],
   "source": [
    "## Classical Optimizer ##\n",
    "\n",
    "from scipy.optimize import minimize\n",
    "\n",
    "res = minimize(expectation_execute_circuit,\n",
    "               [1.0, 1.0],\n",
    "               method='COBYLA')\n",
    "print(res)"
   ]
  },
  {
   "cell_type": "markdown",
   "id": "196fbbc3",
   "metadata": {},
   "source": [
    "## Analyzing the Results"
   ]
  },
  {
   "cell_type": "code",
   "execution_count": 54,
   "id": "bbd2768c",
   "metadata": {},
   "outputs": [
    {
     "name": "stdout",
     "output_type": "stream",
     "text": [
      "Counter({'00011': 200, '00010': 187, '10011': 143, '10010': 116, '00111': 55, '00001': 42, '10001': 36, '11011': 33, '01011': 26, '00110': 22, '00000': 22, '10000': 22, '11010': 15, '01010': 13, '10111': 11, '01111': 9, '11001': 7, '00101': 6, '11111': 6, '01001': 4, '10110': 4, '10101': 3, '01110': 3, '11101': 2, '01100': 2, '01101': 2, '11000': 2, '10100': 2, '00100': 2, '11110': 2, '01000': 1})\n"
     ]
    }
   ],
   "source": [
    "beta = res.get('x')[0]\n",
    "gamma = res.get('x')[1]\n",
    "circuit = create_circuit(beta, gamma)\n",
    "\n",
    "device = LocalSimulator()\n",
    "result = device.run(circuit, shots = 1000).result()\n",
    "counts = result.measurement_counts\n",
    "\n",
    "print(counts)\n",
    "\n",
    "# plot using Counter\n",
    "#plt.bar(counts.keys(), counts.values())\n",
    "#plt.xlabel('bitstrings')\n",
    "#plt.ylabel('counts')"
   ]
  },
  {
   "cell_type": "markdown",
   "id": "ac80d347",
   "metadata": {},
   "source": [
    "## Post-Processing\n",
    "\n",
    "Remove the output states that are not possible (among the top ten most probable states) and then check for the most probable states.\n",
    "Check for joined paths, that is check that if a path enum ending with a number exists, then another path enum starting with the same number also exists, unless its a source or destination. They should always be 1."
   ]
  },
  {
   "cell_type": "code",
   "execution_count": 55,
   "id": "d1373bbf",
   "metadata": {
    "scrolled": true
   },
   "outputs": [],
   "source": [
    "def check_state(s):\n",
    "    \n",
    "    ## Firstly check if the path starts from a source and ends at a destination\n",
    "    source_flag = False\n",
    "    destination_flag = False\n",
    "    multiple_branches = False\n",
    "    continuity_flag = True\n",
    "    \n",
    "    starting_nodes = []\n",
    "    ending_nodes = []\n",
    "    \n",
    "    ## Check to see if the source and destination nodes exist in the network\n",
    "    i=0\n",
    "    for i in range(len(s)):\n",
    "        if(s[i] == '1'):\n",
    "            \n",
    "            if(edges[i][0] == source):\n",
    "                source_flag = True\n",
    "            if(edges[i][1] == destination):\n",
    "                destination_flag = True\n",
    "                \n",
    "            starting_nodes += [edges[i][0]]\n",
    "            ending_nodes += [edges[i][1]]\n",
    "            \n",
    "    ## Now check if a node repeats itself in starting or ending_nodes. If yes, set multiple_branches\n",
    "    i = 0\n",
    "    for i in range(len(starting_nodes)):\n",
    "        cnt1 = starting_nodes.count(starting_nodes[i])\n",
    "        cnt2 = ending_nodes.count(ending_nodes[i])\n",
    "        if cnt1 > 1 or cnt2 > 1:\n",
    "            multiple_branches = True\n",
    "            break\n",
    "            \n",
    "    \n",
    "    ## Then iteratively go through ending nodes and check if the same node exists in the next starting_nodes index                \n",
    "    ## This is an easier check for continuity and necessarily requires the edges nodes to be in some order\n",
    "    ## Also go with the thumb rule that the destination node will be the last value of ending_nodes\n",
    "    for i in range(len(ending_nodes)-1):\n",
    "        if starting_nodes[i+1] != ending_nodes[i]:\n",
    "            continuity_flag = False\n",
    "            break\n",
    "                    \n",
    "    if source_flag and destination_flag and continuity_flag and (not multiple_branches):\n",
    "        return True\n",
    "    else:\n",
    "        return False\n",
    "\n",
    "# s = '10010'\n",
    "# flag = check_state(s)\n",
    "# print(flag)"
   ]
  },
  {
   "cell_type": "markdown",
   "id": "5c6f7a5a",
   "metadata": {},
   "source": [
    "## After Post-processing ##"
   ]
  },
  {
   "cell_type": "code",
   "execution_count": 56,
   "id": "61253a51",
   "metadata": {},
   "outputs": [
    {
     "name": "stdout",
     "output_type": "stream",
     "text": [
      "10010:116\n",
      "10000:22\n",
      "10101:3\n",
      "10100:2\n"
     ]
    }
   ],
   "source": [
    "states = list(counts.keys())\n",
    "possible_states = []\n",
    "i = 0\n",
    "for i in range(len(states)):\n",
    "    s = states[i]\n",
    "    flag = check_state(s)\n",
    "    if flag:\n",
    "        possible_states += [s]\n",
    "    \n",
    "del states\n",
    "\n",
    "i = 0\n",
    "final_shots = []\n",
    "for i in range(len(possible_states)):\n",
    "    final_shots += [counts[possible_states[i]]]\n",
    "    print(possible_states[i]+':'+str(final_shots[i]))"
   ]
  },
  {
   "cell_type": "code",
   "execution_count": 57,
   "id": "678958b8",
   "metadata": {
    "scrolled": true
   },
   "outputs": [
    {
     "name": "stdout",
     "output_type": "stream",
     "text": [
      "Therefore the most probable possible state is 10010\n"
     ]
    }
   ],
   "source": [
    "print(\"Therefore the most probable possible state is \" + str(possible_states[final_shots.index(max(final_shots))]))"
   ]
  },
  {
   "cell_type": "markdown",
   "id": "b4209d13",
   "metadata": {},
   "source": [
    "#### Although 100010 is not an actual correct path for node 2 as destination, one can interpret the result to be correct if seeing it from the POV of the signal path. Once the signal reaches node 2, we can consider the job as done and ignore and path after that."
   ]
  }
 ],
 "metadata": {
  "kernelspec": {
   "display_name": "Python 3 (ipykernel)",
   "language": "python",
   "name": "python3"
  },
  "language_info": {
   "codemirror_mode": {
    "name": "ipython",
    "version": 3
   },
   "file_extension": ".py",
   "mimetype": "text/x-python",
   "name": "python",
   "nbconvert_exporter": "python",
   "pygments_lexer": "ipython3",
   "version": "3.8.13"
  }
 },
 "nbformat": 4,
 "nbformat_minor": 5
}
