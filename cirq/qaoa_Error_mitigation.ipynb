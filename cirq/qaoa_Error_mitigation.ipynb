{
 "cells": [
  {
   "cell_type": "code",
   "execution_count": 1,
   "metadata": {},
   "outputs": [
    {
     "data": {
      "text/plain": [
       "4"
      ]
     },
     "execution_count": 1,
     "metadata": {},
     "output_type": "execute_result"
    }
   ],
   "source": [
    "# Square graph\n",
    "square_graph = [(0, 1), (1, 2), (2, 3), (3, 0)]\n",
    "\n",
    "from typing import List, Tuple\n",
    "\n",
    "def count_cuts(graph: List[Tuple[int]], set_a: set, set_b: set):\n",
    "    \"\"\"Counts the number of cuts of a graph bipartition.\"\"\"\n",
    "    num_cuts = 0\n",
    "    for edge in graph:\n",
    "        if edge[0] in set_a and edge[1] in set_b:\n",
    "            num_cuts += 1\n",
    "        if edge[0] in set_b and edge[1] in set_a:\n",
    "            num_cuts += 1\n",
    "    return num_cuts\n",
    "\n",
    "set_a = {0, 2}\n",
    "set_b = {1, 3}\n",
    "\n",
    "count_cuts(square_graph, set_a, set_b)"
   ]
  },
  {
   "cell_type": "markdown",
   "metadata": {},
   "source": [
    "#### A handy way of representing a candidate solution of the MaxCut problem, is to use a bitstring in which each bit is associated to the node of the graph. The value of each bit, or, can be used to represent the corresponding subset, or, to which the node belongs. ####"
   ]
  },
  {
   "cell_type": "code",
   "execution_count": 2,
   "metadata": {},
   "outputs": [
    {
     "data": {
      "text/plain": [
       "4"
      ]
     },
     "execution_count": 2,
     "metadata": {},
     "output_type": "execute_result"
    }
   ],
   "source": [
    "def count_cuts_from_string(graph: List[Tuple[int]], bitstring: str):\n",
    "    \"\"\"Counts the number of cuts of a graph bipartition represented as a (big-endian) bitstring.\n",
    "    \"\"\"\n",
    "    cost = 0\n",
    "    for i, j in graph:\n",
    "        z1 = (2 * int(bitstring[-i]) - 1)\n",
    "        z2 = (2 * int(bitstring[-j]) - 1)\n",
    "        cost += -(1 - z1 * z2) // 2\n",
    "    return -cost\n",
    "\n",
    "optimal_string = \"1010\"\n",
    "# Test the function\n",
    "count_cuts_from_string(square_graph, optimal_string)"
   ]
  },
  {
   "cell_type": "code",
   "execution_count": 5,
   "metadata": {},
   "outputs": [
    {
     "data": {
      "text/plain": [
       "['0101', '1010']"
      ]
     },
     "execution_count": 5,
     "metadata": {},
     "output_type": "execute_result"
    }
   ],
   "source": [
    "from cirq import NamedQubit, Circuit, identity_each, ZZ\n",
    "import numpy as np\n",
    "\n",
    "def qaoa_hamiltonian(graph: List[Tuple[float]]) -> np.ndarray:\n",
    "    \"\"\"Returns the cost Hamiltonian associated to the input graph.\n",
    "    \"\"\"\n",
    "    # Get all the nodes of the graph\n",
    "    nodes = list({node for edge in graph for node in edge})\n",
    "    # Initialize the qubits. One for each node.\n",
    "    qreg = [NamedQubit(str(nn)) for nn in nodes]\n",
    "    # Define the Hamiltonian as a NumPy array\n",
    "    np_identity = np.eye(2 ** len(nodes))\n",
    "    zz_terms = np.real([Circuit([identity_each(*qreg), ZZ(qreg[i], qreg[j])]).unitary() for i, j in graph])\n",
    "    local_terms = [-0.5 * (np_identity - zz_term) for zz_term in zz_terms]\n",
    "    return sum(local_terms)\n",
    "\n",
    "\n",
    "eig_vals = np.diag(qaoa_hamiltonian(square_graph))\n",
    "# Ground state energy\n",
    "min(eig_vals)\n",
    "\n",
    "# The associated optimal eigenstates are:\n",
    "nodes = list({node for edge in square_graph for node in edge})\n",
    "num_nodes = len(nodes)\n",
    "optimal_bitstrings = [f\"{j:b}\".zfill(num_nodes) for j, eig_val in enumerate(eig_vals) if eig_val == min(eig_vals)]\n",
    "optimal_bitstrings"
   ]
  },
  {
   "cell_type": "markdown",
   "metadata": {},
   "source": [
    "# Using the Quantum Approximate Optimization Algorithm to find the ground state #"
   ]
  },
  {
   "cell_type": "code",
   "execution_count": 7,
   "metadata": {},
   "outputs": [],
   "source": [
    "from cirq import H, X\n",
    "from typing import List, Tuple\n",
    "\n",
    "def qaoa_ansatz(graph: List[Tuple[float]], params: List[float]) -> Circuit:\n",
    "    \"\"\"Generates a QAOA circuit associated to the input graph, for\n",
    "    a specific choice of variational parameters.\n",
    "\n",
    "    Args:\n",
    "        graph: The input graph.\n",
    "        params: The variational parameters.\n",
    "\n",
    "    Returns:\n",
    "        The QAOA circuit.\n",
    "    \"\"\"\n",
    "\n",
    "    # Get the list of unique nodes from the list of edges\n",
    "    nodes = list({node for edge in graph for node in edge})\n",
    "\n",
    "    # Initialize the qubits\n",
    "    qreg = [NamedQubit(str(nn)) for nn in nodes]\n",
    "\n",
    "    # Define the Hamiltonian evolution (up to an additive and a multiplicative constant)\n",
    "    def h_step(beta: float) -> Circuit:\n",
    "        return Circuit(ZZ(qreg[u], qreg[v]) ** (beta) for u, v in graph)\n",
    "\n",
    "    # Define the mixing evolution (up to an additive and a multiplicative constant)\n",
    "    def mix_step(gamma: float) -> Circuit:\n",
    "        return Circuit(X(qq) ** gamma for qq in qreg)\n",
    "\n",
    "    # State preparation layer\n",
    "    circ = Circuit(H.on_each(qreg))\n",
    "\n",
    "    # Apply QAOA steps\n",
    "    num_steps = len(params) // 2\n",
    "    betas, alphas = params[:num_steps], params[num_steps:]\n",
    "    for beta, alpha in zip(betas, alphas):\n",
    "        circ.append([h_step(beta) + mix_step(alpha)])\n",
    "\n",
    "    return circ"
   ]
  },
  {
   "cell_type": "code",
   "execution_count": 8,
   "metadata": {},
   "outputs": [
    {
     "data": {
      "text/html": [
       "<pre style=\"overflow: auto; white-space: pre;\">0: ───H───ZZ─────────────────────────ZZ───────X^0.3───ZZ─────────────────────────ZZ───────X^0.4───\n",
       "          │                          │                │                          │\n",
       "1: ───H───ZZ^0.1───ZZ────────────────┼────────X^0.3───ZZ^0.2───ZZ────────────────┼────────X^0.4───\n",
       "                   │                 │                         │                 │\n",
       "2: ───H────────────ZZ^0.1───ZZ───────┼────────X^0.3────────────ZZ^0.2───ZZ───────┼────────X^0.4───\n",
       "                            │        │                                  │        │\n",
       "3: ───H─────────────────────ZZ^0.1───ZZ^0.1───X^0.3─────────────────────ZZ^0.2───ZZ^0.2───X^0.4───</pre>"
      ],
      "text/plain": [
       "0: ───H───ZZ─────────────────────────ZZ───────X^0.3───ZZ─────────────────────────ZZ───────X^0.4───\n",
       "          │                          │                │                          │\n",
       "1: ───H───ZZ^0.1───ZZ────────────────┼────────X^0.3───ZZ^0.2───ZZ────────────────┼────────X^0.4───\n",
       "                   │                 │                         │                 │\n",
       "2: ───H────────────ZZ^0.1───ZZ───────┼────────X^0.3────────────ZZ^0.2───ZZ───────┼────────X^0.4───\n",
       "                            │        │                                  │        │\n",
       "3: ───H─────────────────────ZZ^0.1───ZZ^0.1───X^0.3─────────────────────ZZ^0.2───ZZ^0.2───X^0.4───"
      ]
     },
     "execution_count": 8,
     "metadata": {},
     "output_type": "execute_result"
    }
   ],
   "source": [
    "betas = [0.1, 0.2]\n",
    "alphas = [0.3, 0.4]\n",
    "params = betas + alphas\n",
    "qaoa_ansatz(square_graph, params)"
   ]
  },
  {
   "cell_type": "code",
   "execution_count": 10,
   "metadata": {},
   "outputs": [
    {
     "data": {
      "text/plain": [
       "-1.4574782699346542"
      ]
     },
     "execution_count": 10,
     "metadata": {},
     "output_type": "execute_result"
    }
   ],
   "source": [
    "from cirq import depolarize, DensityMatrixSimulator\n",
    "\n",
    "def executor(circ: Circuit, obs: np.array, noise: float) -> float:\n",
    "    \"\"\"Simulates a circuit with depolarizing noise at level 'noise' and returns the\n",
    "    expectation value of the observable 'obs'.\n",
    "    \"\"\"\n",
    "    SIMULATOR = DensityMatrixSimulator()\n",
    "    # Add the noise\n",
    "    noisy_circ = circ.with_noise(depolarize(p=noise))\n",
    "    # Get the final quantum state\n",
    "    rho = SIMULATOR.simulate(noisy_circ).final_density_matrix\n",
    "    # Return the expectation value\n",
    "    return np.real(np.trace(rho @ obs))\n",
    "\n",
    "betas = [0.1, 0.2]\n",
    "alphas = [0.3, 0.4]\n",
    "params = betas + alphas\n",
    "circuit = qaoa_ansatz(square_graph, params)\n",
    "hamiltonian = qaoa_hamiltonian(square_graph)\n",
    "executor(circuit, obs=hamiltonian, noise=0)"
   ]
  },
  {
   "cell_type": "markdown",
   "metadata": {},
   "source": [
    "# Minimization of the QAOA cost #"
   ]
  },
  {
   "cell_type": "code",
   "execution_count": 11,
   "metadata": {},
   "outputs": [],
   "source": [
    "from typing import Callable\n",
    "from scipy.optimize import minimize\n",
    "import matplotlib.pyplot as plt\n",
    "\n",
    "def minimize_cost(\n",
    "    cost_function: Callable[[np.array], float],\n",
    "    init_params: np.array,\n",
    ") -> Tuple[float, np.ndarray, List[float]]:\n",
    "    \"\"\"Minimizes a cost function which depends on an array variational parameters.\n",
    "\n",
    "    Args:\n",
    "        cost_function: The cost function to minimize.\n",
    "        init_params: The initial variational parameters.\n",
    "\n",
    "    Returns:\n",
    "        A triple of the minimum cost, the optimal parameters and a list of costs at each iteration steps.\n",
    "    \"\"\"\n",
    "\n",
    "\n",
    "    # store the optimization trajectory\n",
    "    traj = []\n",
    "\n",
    "    def callback(xk: np.ndarray) -> bool:\n",
    "        traj.append(cost_function(xk))\n",
    "        return True\n",
    "\n",
    "    results = minimize(\n",
    "        cost_function,\n",
    "        x0=init_params,\n",
    "        method=\"Nelder-Mead\",\n",
    "        callback=callback,\n",
    "        options={\"disp\": True, \"maxiter\": 300},\n",
    "        # Set tol=0 to enforce a fixed number of iterations.\n",
    "        # Comment tol=0 to speedup the notebook execution.\n",
    "        tol=0,\n",
    "    )\n",
    "\n",
    "    plt.title(\"Optimization history\")\n",
    "    plt.xlabel(\"Iteration Step\")\n",
    "    plt.ylabel(\"Cost\")\n",
    "    plt.plot(traj)\n",
    "    plt.show()\n",
    "    return results.fun, results.x, traj"
   ]
  },
  {
   "cell_type": "code",
   "execution_count": 12,
   "metadata": {},
   "outputs": [
    {
     "name": "stderr",
     "output_type": "stream",
     "text": [
      "C:\\Users\\kakal\\AppData\\Local\\Temp\\ipykernel_15112\\3419589073.py:27: RuntimeWarning: Maximum number of iterations has been exceeded.\n",
      "  results = minimize(\n"
     ]
    },
    {
     "data": {
      "image/png": "[encoded data removed]",
      "text/plain": [
       "<Figure size 640x480 with 1 Axes>"
      ]
     },
     "metadata": {},
     "output_type": "display_data"
    },
    {
     "name": "stdout",
     "output_type": "stream",
     "text": [
      "Ideal cost:  -4.0\n"
     ]
    }
   ],
   "source": [
    "graph = [(0, 1), (1, 2), (2, 3), (3, 0)]\n",
    "betas = [0.0, 0.5]\n",
    "gammas = [0.7, 1.0]\n",
    "init_params = betas + gammas\n",
    "\n",
    "def qaoa_ideal_cost(params: np.array) -> float:\n",
    "    \"\"\"Ideal cost function of the QAOA problem without noise.\"\"\"\n",
    "    qaoa_circuit = qaoa_ansatz(graph, params)\n",
    "    qaoa_obs = qaoa_hamiltonian(graph)\n",
    "    return executor(qaoa_circuit, qaoa_obs, noise=0)\n",
    "\n",
    "ideal_opt_cost, ideal_opt_params, traj = minimize_cost(qaoa_ideal_cost, init_params)\n",
    "print(\"Ideal cost: \", np.round(ideal_opt_cost, 4))"
   ]
  },
  {
   "cell_type": "markdown",
   "metadata": {},
   "source": [
    "# Noisy Unmitigated Hardware #"
   ]
  },
  {
   "cell_type": "code",
   "execution_count": 13,
   "metadata": {},
   "outputs": [
    {
     "name": "stderr",
     "output_type": "stream",
     "text": [
      "C:\\Users\\kakal\\AppData\\Local\\Temp\\ipykernel_15112\\3419589073.py:27: RuntimeWarning: Maximum number of iterations has been exceeded.\n",
      "  results = minimize(\n"
     ]
    },
    {
     "data": {
      "image/png": "[encoded data removed]",
      "text/plain": [
       "<Figure size 640x480 with 1 Axes>"
      ]
     },
     "metadata": {},
     "output_type": "display_data"
    }
   ],
   "source": [
    "BASE_NOISE = 0.03\n",
    "def qaoa_noisy_cost(params: np.array) -> float:\n",
    "    \"\"\"Noisy cost function of the QAOA problem.\"\"\"\n",
    "    qaoa_circuit = qaoa_ansatz(graph, params)\n",
    "    qaoa_obs = qaoa_hamiltonian(graph)\n",
    "    return executor(qaoa_circuit, qaoa_obs, noise=BASE_NOISE)\n",
    "\n",
    "noisy_opt_cost, noisy_opt_params, noisy_traj = minimize_cost(qaoa_noisy_cost, init_params)"
   ]
  },
  {
   "cell_type": "code",
   "execution_count": 14,
   "metadata": {},
   "outputs": [
    {
     "name": "stdout",
     "output_type": "stream",
     "text": [
      "Noisy cost:  -2.6122\n",
      "Ideal cost evaluated at noisy parameters:  -3.2278\n",
      "Ideal cost:  -4.0\n"
     ]
    }
   ],
   "source": [
    "print(\"Noisy cost: \", np.round(noisy_opt_cost, 4))\n",
    "print(\"Ideal cost evaluated at noisy parameters: \", np.round(qaoa_ideal_cost(noisy_opt_params), 4))\n",
    "print(\"Ideal cost: \", np.round(ideal_opt_cost, 4))"
   ]
  },
  {
   "cell_type": "markdown",
   "metadata": {},
   "source": [
    "# Mitigated noisy hardware using Mitiq"
   ]
  },
  {
   "cell_type": "code",
   "execution_count": 15,
   "metadata": {},
   "outputs": [
    {
     "name": "stderr",
     "output_type": "stream",
     "text": [
      "C:\\Users\\kakal\\AppData\\Local\\Temp\\ipykernel_15112\\3419589073.py:27: RuntimeWarning: Maximum number of iterations has been exceeded.\n",
      "  results = minimize(\n"
     ]
    },
    {
     "data": {
      "image/png": "[encoded data removed]",
      "text/plain": [
       "<Figure size 640x480 with 1 Axes>"
      ]
     },
     "metadata": {},
     "output_type": "display_data"
    }
   ],
   "source": [
    "import mitiq\n",
    "from mitiq.zne import mitigate_executor\n",
    "from functools import partial\n",
    "\n",
    "# Choose a noise scaling method\n",
    "scaling_method = mitiq.zne.scaling.fold_global\n",
    "\n",
    "# Initialize an inference method (i.e. a Mitiq Factory)\n",
    "inference_factory = mitiq.zne.inference.LinearFactory(scale_factors=[1.0, 3.0])\n",
    "\n",
    "# Define the cost function\n",
    "def qaoa_mitigated_cost(params: np.array) -> float:\n",
    "    \"\"\"Cost function of the QAOA problem using error mitigation.\"\"\"\n",
    "    qaoa_circuit = qaoa_ansatz(graph, params)\n",
    "    qaoa_obs = qaoa_hamiltonian(graph)\n",
    "    noisy_executor = partial(executor, obs=qaoa_obs, noise=BASE_NOISE)\n",
    "    mitigated_executor = mitigate_executor(noisy_executor, factory=inference_factory, scale_noise=scaling_method)\n",
    "    return mitigated_executor(qaoa_circuit)\n",
    "\n",
    "# Minimize the cost function\n",
    "mitig_opt_cost, mitig_opt_params, mitig_traj = minimize_cost(qaoa_mitigated_cost, init_params)"
   ]
  },
  {
   "cell_type": "code",
   "execution_count": 16,
   "metadata": {},
   "outputs": [
    {
     "name": "stdout",
     "output_type": "stream",
     "text": [
      "Mitigated cost:  -3.0967\n",
      "Noisy cost evaluated at noisy parameters:  -2.6122\n",
      "Noisy cost evaluated at mitigated parameters:  -2.7841\n",
      "Ideal cost evaluated at noisy parameters:  -3.2278\n",
      "Ideal cost evaluated at mitigated parameters:  -3.9337\n",
      "Ideal cost:  -4.0\n"
     ]
    }
   ],
   "source": [
    "print(\"Mitigated cost: \", np.round(mitig_opt_cost, 4))\n",
    "print(\"Noisy cost evaluated at noisy parameters: \", np.round(noisy_opt_cost, 4))\n",
    "print(\"Noisy cost evaluated at mitigated parameters: \",np.round(qaoa_noisy_cost(mitig_opt_params), 4))\n",
    "print(\"Ideal cost evaluated at noisy parameters: \", np.round(qaoa_ideal_cost(noisy_opt_params), 4))\n",
    "print(\"Ideal cost evaluated at mitigated parameters: \", np.round(qaoa_ideal_cost(mitig_opt_params), 4))\n",
    "print(\"Ideal cost: \", np.round(ideal_opt_cost, 4))"
   ]
  },
  {
   "cell_type": "code",
   "execution_count": null,
   "metadata": {},
   "outputs": [],
   "source": []
  }
 ],
 "metadata": {
  "kernelspec": {
   "display_name": "Python 3",
   "language": "python",
   "name": "python3"
  },
  "language_info": {
   "codemirror_mode": {
    "name": "ipython",
    "version": 3
   },
   "file_extension": ".py",
   "mimetype": "text/x-python",
   "name": "python",
   "nbconvert_exporter": "python",
   "pygments_lexer": "ipython3",
   "version": "3.11.5"
  },
  "orig_nbformat": 4
 },
 "nbformat": 4,
 "nbformat_minor": 2
}
